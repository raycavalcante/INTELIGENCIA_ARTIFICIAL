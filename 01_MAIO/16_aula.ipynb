{
 "cells": [
  {
   "cell_type": "markdown",
   "id": "f2608552",
   "metadata": {},
   "source": [
    "# Trabalhando com string"
   ]
  },
  {
   "cell_type": "code",
   "execution_count": 63,
   "id": "75f789ce",
   "metadata": {},
   "outputs": [
    {
     "name": "stdout",
     "output_type": "stream",
     "text": [
      "O\n",
      "l\n",
      "á\n",
      " \n",
      "m\n",
      "u\n",
      "---\n",
      "Olá mundo\n",
      "o\n"
     ]
    }
   ],
   "source": [
    "# Acessando caracteres\n",
    "mensagem = 'Olá mundo'\n",
    "print(mensagem[0])\n",
    "print(mensagem[1])\n",
    "print(mensagem[2])\n",
    "print(mensagem[3])\n",
    "print(mensagem[4])\n",
    "print(mensagem[5])\n",
    "print('---')\n",
    "print(mensagem)\n",
    "print(mensagem[-1])"
   ]
  },
  {
   "cell_type": "code",
   "execution_count": 64,
   "id": "47b88c95",
   "metadata": {},
   "outputs": [
    {
     "name": "stdout",
     "output_type": "stream",
     "text": [
      "Olá\n",
      " mundo\n"
     ]
    }
   ],
   "source": [
    "# Fariamento\n",
    "print(mensagem[0:3])\n",
    "print(mensagem[3:9])"
   ]
  },
  {
   "cell_type": "code",
   "execution_count": 65,
   "id": "f1312436",
   "metadata": {},
   "outputs": [
    {
     "name": "stdout",
     "output_type": "stream",
     "text": [
      "OLÁ MUNDO\n"
     ]
    }
   ],
   "source": [
    "# Maiscula\n",
    "print(mensagem.upper())"
   ]
  },
  {
   "cell_type": "code",
   "execution_count": 66,
   "id": "86e516f6",
   "metadata": {},
   "outputs": [
    {
     "name": "stdout",
     "output_type": "stream",
     "text": [
      "olá mundo\n"
     ]
    }
   ],
   "source": [
    "# Minuscula\n",
    "print(mensagem.lower())"
   ]
  },
  {
   "cell_type": "code",
   "execution_count": 67,
   "id": "5d31c9d4",
   "metadata": {},
   "outputs": [
    {
     "name": "stdout",
     "output_type": "stream",
     "text": [
      "Python é legal\n"
     ]
    }
   ],
   "source": [
    "# Primeira letra maiuscula\n",
    "print('python é legal'.capitalize())"
   ]
  },
  {
   "cell_type": "code",
   "execution_count": 68,
   "id": "2603f647",
   "metadata": {},
   "outputs": [
    {
     "name": "stdout",
     "output_type": "stream",
     "text": [
      "Python É Legal\n"
     ]
    }
   ],
   "source": [
    "# titulo\n",
    "print('python é legal'.title())"
   ]
  },
  {
   "cell_type": "code",
   "execution_count": 69,
   "id": "fd941fbf",
   "metadata": {},
   "outputs": [
    {
     "name": "stdout",
     "output_type": "stream",
     "text": [
      "python é legal\n"
     ]
    }
   ],
   "source": [
    "# removendo espaçõs\n",
    "print('     python é legal'.strip())\n"
   ]
  },
  {
   "cell_type": "code",
   "execution_count": 70,
   "id": "129c6cad",
   "metadata": {},
   "outputs": [
    {
     "name": "stdout",
     "output_type": "stream",
     "text": [
      "Eu amo python\n"
     ]
    }
   ],
   "source": [
    "# substituindo palavras\n",
    "print('Eu amo java'.replace('java','python'))"
   ]
  },
  {
   "cell_type": "code",
   "execution_count": 71,
   "id": "0264155f",
   "metadata": {},
   "outputs": [
    {
     "name": "stdout",
     "output_type": "stream",
     "text": [
      "['Curso', 'de', 'python']\n"
     ]
    }
   ],
   "source": [
    "# separando string\n",
    "print('Curso de python'.split())"
   ]
  },
  {
   "cell_type": "code",
   "execution_count": 72,
   "id": "13e8e8d8",
   "metadata": {},
   "outputs": [
    {
     "name": "stdout",
     "output_type": "stream",
     "text": [
      "curso de python\n"
     ]
    }
   ],
   "source": [
    "# juntar listas\n",
    "print(' '.join(['curso','de','python']))"
   ]
  },
  {
   "cell_type": "code",
   "execution_count": 73,
   "id": "831c438c",
   "metadata": {},
   "outputs": [
    {
     "name": "stdout",
     "output_type": "stream",
     "text": [
      "2\n"
     ]
    }
   ],
   "source": [
    "# indice da primeira ocorrencia\n",
    "print('Banana'.find('na'))"
   ]
  },
  {
   "cell_type": "code",
   "execution_count": 74,
   "id": "2419f947",
   "metadata": {},
   "outputs": [
    {
     "name": "stdout",
     "output_type": "stream",
     "text": [
      "True\n"
     ]
    }
   ],
   "source": [
    "print('Programa.py'.endswith('py'))"
   ]
  },
  {
   "cell_type": "code",
   "execution_count": 75,
   "id": "d97cfd92",
   "metadata": {},
   "outputs": [
    {
     "name": "stdout",
     "output_type": "stream",
     "text": [
      "True\n"
     ]
    }
   ],
   "source": [
    "print('Hello'.startswith('H'))"
   ]
  },
  {
   "cell_type": "code",
   "execution_count": 76,
   "id": "f8d72cb0",
   "metadata": {},
   "outputs": [
    {
     "name": "stdout",
     "output_type": "stream",
     "text": [
      "True\n",
      "True\n"
     ]
    }
   ],
   "source": [
    "# verificar com in \n",
    "frase = 'Python é ingrivel'\n",
    "print('Python' in frase)\n",
    "print('java' not in frase)\n"
   ]
  },
  {
   "cell_type": "code",
   "execution_count": 77,
   "id": "28c39f03",
   "metadata": {},
   "outputs": [
    {
     "name": "stdout",
     "output_type": "stream",
     "text": [
      "11\n"
     ]
    }
   ],
   "source": [
    "# len \n",
    "texto = 'hello, word'\n",
    "print(len(texto))"
   ]
  },
  {
   "cell_type": "code",
   "execution_count": 78,
   "id": "46f98c20",
   "metadata": {},
   "outputs": [
    {
     "name": "stdout",
     "output_type": "stream",
     "text": [
      "2\n"
     ]
    }
   ],
   "source": [
    "# count \n",
    "print('Ray santos'.count('a'))"
   ]
  },
  {
   "cell_type": "code",
   "execution_count": 79,
   "id": "b1c229b2",
   "metadata": {},
   "outputs": [
    {
     "name": "stdout",
     "output_type": "stream",
     "text": [
      "Ray:   santos@gmail.com \n"
     ]
    }
   ],
   "source": [
    "# email \n",
    "email = ' santos@gmail.com '\n",
    "print('Ray: ',email)"
   ]
  },
  {
   "cell_type": "code",
   "execution_count": 80,
   "id": "0b41e062",
   "metadata": {},
   "outputs": [
    {
     "name": "stdout",
     "output_type": "stream",
     "text": [
      "Sem espaço:  santos@gmail.com\n"
     ]
    }
   ],
   "source": [
    "# limpar espaços\n",
    "email = email.strip()\n",
    "print('Sem espaço: ',email)"
   ]
  },
  {
   "cell_type": "code",
   "execution_count": 81,
   "id": "d6b59042",
   "metadata": {},
   "outputs": [
    {
     "name": "stdout",
     "output_type": "stream",
     "text": [
      "E-mail do pessoal\n"
     ]
    }
   ],
   "source": [
    "saida = 'outro tipo de email'\n",
    "if email.endswith('@gmail.com'):\n",
    "    saida = 'E-mail do pessoal'\n",
    "print(saida)"
   ]
  },
  {
   "cell_type": "code",
   "execution_count": 82,
   "id": "fb94e51b",
   "metadata": {},
   "outputs": [
    {
     "name": "stdout",
     "output_type": "stream",
     "text": [
      "Usuário:  Santos\n"
     ]
    }
   ],
   "source": [
    "usuario = email.split('@')[0]\n",
    "print('Usuário: ',usuario.capitalize())"
   ]
  },
  {
   "cell_type": "markdown",
   "id": "20404654",
   "metadata": {},
   "source": [
    "# Exercicíos"
   ]
  },
  {
   "cell_type": "code",
   "execution_count": 83,
   "id": "9592c36d",
   "metadata": {},
   "outputs": [
    {
     "name": "stdout",
     "output_type": "stream",
     "text": [
      "Python\n"
     ]
    }
   ],
   "source": [
    "# ques01\n",
    "palavra = 'Linguagem Python'\n",
    "print(palavra[10:16])"
   ]
  },
  {
   "cell_type": "code",
   "execution_count": 84,
   "id": "45982a87",
   "metadata": {},
   "outputs": [
    {
     "name": "stdout",
     "output_type": "stream",
     "text": [
      "P - o\n"
     ]
    }
   ],
   "source": [
    "# ques02\n",
    "palavra = 'Programar é divertido'\n",
    "print(palavra[0],'-', palavra[-1])\n"
   ]
  },
  {
   "cell_type": "code",
   "execution_count": 85,
   "id": "847e5af9",
   "metadata": {},
   "outputs": [
    {
     "name": "stdout",
     "output_type": "stream",
     "text": [
      "Informática\n",
      "acitámrofnI\n"
     ]
    }
   ],
   "source": [
    "# ques03\n",
    "palavra = 'Informática'\n",
    "print(palavra)\n",
    "palavra_invertida = palavra[::-1]\n",
    "print(palavra_invertida)"
   ]
  },
  {
   "cell_type": "code",
   "execution_count": 86,
   "id": "3e95832b",
   "metadata": {},
   "outputs": [
    {
     "name": "stdout",
     "output_type": "stream",
     "text": [
      "mputad\n"
     ]
    }
   ],
   "source": [
    "# ques04\n",
    "msg = 'Computador'\n",
    "print(msg[2:8])"
   ]
  },
  {
   "cell_type": "code",
   "execution_count": 87,
   "id": "aa9b3453",
   "metadata": {},
   "outputs": [
    {
     "name": "stdout",
     "output_type": "stream",
     "text": [
      "Bol\n",
      "---\n",
      "uva\n"
     ]
    }
   ],
   "source": [
    "# ques05\n",
    "txt = 'Bolo de uva'\n",
    "print(txt[0:3])\n",
    "print('---')\n",
    "print(txt[8:11])"
   ]
  },
  {
   "cell_type": "code",
   "execution_count": 88,
   "id": "0c0750b1",
   "metadata": {},
   "outputs": [
    {
     "name": "stdout",
     "output_type": "stream",
     "text": [
      "TECNOLOGIA\n"
     ]
    }
   ],
   "source": [
    "# ques06\n",
    "txt = 'tecnologia'\n",
    "print(txt.upper())"
   ]
  },
  {
   "cell_type": "code",
   "execution_count": 89,
   "id": "e8217a5a",
   "metadata": {},
   "outputs": [
    {
     "name": "stdout",
     "output_type": "stream",
     "text": [
      "educação\n"
     ]
    }
   ],
   "source": [
    "# ques07\n",
    "txt = 'EDUCAÇÃO'\n",
    "print(txt.lower())"
   ]
  },
  {
   "cell_type": "code",
   "execution_count": 90,
   "id": "afc3f618",
   "metadata": {},
   "outputs": [
    {
     "name": "stdout",
     "output_type": "stream",
     "text": [
      "Python é sensacional\n"
     ]
    }
   ],
   "source": [
    "# ques08\n",
    "txt = 'python é sensacional'\n",
    "print(txt.capitalize())"
   ]
  },
  {
   "cell_type": "code",
   "execution_count": 91,
   "id": "bc95f6f7",
   "metadata": {},
   "outputs": [
    {
     "name": "stdout",
     "output_type": "stream",
     "text": [
      "Aprendendo Python Na Prática\n"
     ]
    }
   ],
   "source": [
    "# ques09\n",
    "txt = 'aprendendo python na prática'\n",
    "print(txt.title())"
   ]
  },
  {
   "cell_type": "code",
   "execution_count": 92,
   "id": "4856b41c",
   "metadata": {},
   "outputs": [
    {
     "name": "stdout",
     "output_type": "stream",
     "text": [
      "curso de python\n"
     ]
    }
   ],
   "source": [
    "# ques10\n",
    "txt = '  curso de python  '\n",
    "print(txt.strip())"
   ]
  },
  {
   "cell_type": "code",
   "execution_count": 93,
   "id": "57901d26",
   "metadata": {},
   "outputs": [
    {
     "name": "stdout",
     "output_type": "stream",
     "text": [
      "Eu gosto de python\n"
     ]
    }
   ],
   "source": [
    "# ques11\n",
    "print('Eu gosto de java'.replace('java','python'))"
   ]
  },
  {
   "cell_type": "code",
   "execution_count": 94,
   "id": "7313385f",
   "metadata": {},
   "outputs": [
    {
     "name": "stdout",
     "output_type": "stream",
     "text": [
      "['estudar', 'pratica', 'aprender']\n"
     ]
    }
   ],
   "source": [
    "# ques12\n",
    "txt = 'estudar pratica aprender'\n",
    "print(txt.split())"
   ]
  },
  {
   "cell_type": "code",
   "execution_count": 95,
   "id": "d08c8143",
   "metadata": {},
   "outputs": [
    {
     "name": "stdout",
     "output_type": "stream",
     "text": [
      "estudar pratica aprender\n"
     ]
    }
   ],
   "source": [
    "# ques13\n",
    "txt = 'estudar pratica aprender'\n",
    "print(txt.strip())"
   ]
  },
  {
   "cell_type": "code",
   "execution_count": 96,
   "id": "c8d3a940",
   "metadata": {},
   "outputs": [
    {
     "name": "stdout",
     "output_type": "stream",
     "text": [
      "@nálise de d@dos\n"
     ]
    }
   ],
   "source": [
    "# ques14\n",
    "txt = 'análise de dados'\n",
    "print(txt.replace('a','@'))"
   ]
  },
  {
   "cell_type": "code",
   "execution_count": 97,
   "id": "c5a0dec1",
   "metadata": {},
   "outputs": [
    {
     "name": "stdout",
     "output_type": "stream",
     "text": [
      "['2025', '05', '16']\n"
     ]
    }
   ],
   "source": [
    "# ques15\n",
    "txt = '2025-05-16'\n",
    "saida = txt.split('-')[0:4]\n",
    "print(saida)"
   ]
  },
  {
   "cell_type": "code",
   "execution_count": 98,
   "id": "ccb8ef33",
   "metadata": {},
   "outputs": [
    {
     "name": "stdout",
     "output_type": "stream",
     "text": [
      "10\n"
     ]
    }
   ],
   "source": [
    "# ques16\n",
    "# ------------------------------------------------------\n",
    "# -------------------------------------------------------\n",
    "txt = 'desenvolvimento'\n",
    "print(txt.find('mento'))"
   ]
  },
  {
   "cell_type": "code",
   "execution_count": 99,
   "id": "c116feef",
   "metadata": {},
   "outputs": [
    {
     "name": "stdout",
     "output_type": "stream",
     "text": [
      "E-mail: Institucional\n"
     ]
    }
   ],
   "source": [
    "# ques17\n",
    "email = 'usuário@ifam.edu.br'\n",
    "saida = 'E-mail: Não institucional'\n",
    "if email.endswith('@ifam.edu.br'):\n",
    "    saida = 'E-mail: Institucional'\n",
    "print(saida)"
   ]
  },
  {
   "cell_type": "code",
   "execution_count": 100,
   "id": "f9546a3b",
   "metadata": {},
   "outputs": [
    {
     "name": "stdout",
     "output_type": "stream",
     "text": [
      "A letra (o) aparece: 2 vezes\n"
     ]
    }
   ],
   "source": [
    "# ques18\n",
    "txt = 'código fonte'\n",
    "cont = txt.count('o')\n",
    "print(f'A letra (o) aparece: {cont} vezes')"
   ]
  },
  {
   "cell_type": "code",
   "execution_count": 101,
   "id": "8aa64c39",
   "metadata": {},
   "outputs": [
    {
     "name": "stdout",
     "output_type": "stream",
     "text": [
      "3\n"
     ]
    }
   ],
   "source": [
    "# ques19\n",
    "txt = 'projetos'\n",
    "print(txt.find('j'))"
   ]
  },
  {
   "cell_type": "markdown",
   "id": "6d9b70ef",
   "metadata": {},
   "source": [
    "# TRABALHANDO COM LISTAS"
   ]
  },
  {
   "cell_type": "code",
   "execution_count": 102,
   "id": "4734a44f",
   "metadata": {},
   "outputs": [],
   "source": [
    "frutas = [\"maçã\", \"banana\", \"laranja\",'uva']"
   ]
  },
  {
   "cell_type": "code",
   "execution_count": 103,
   "id": "afd05d08",
   "metadata": {},
   "outputs": [
    {
     "name": "stdout",
     "output_type": "stream",
     "text": [
      "maçã\n",
      "banana\n",
      "uva\n",
      "['maçã', 'banana']\n",
      "['maçã', 'banana', 'laranja']\n",
      "['laranja', 'uva']\n",
      "['uva', 'laranja', 'banana', 'maçã']\n"
     ]
    }
   ],
   "source": [
    "print(frutas[0]) # maçã\n",
    "print(frutas[1]) # banana\n",
    "print(frutas[-1]) # laranja\n",
    "print(frutas[0:2]) # [\"maçã\", \"banana\"]\n",
    "print(frutas[:3]) # [\"maçã\", \"banana\", \"laranja\"]\n",
    "print(frutas[2:]) # [\"laranja\", \"uva\"]\n",
    "print(frutas[::-1]) # [\"uva\", \"laranja\", \"banana\", \"maçã\"]\n"
   ]
  },
  {
   "cell_type": "code",
   "execution_count": 104,
   "id": "a5509cea",
   "metadata": {},
   "outputs": [
    {
     "name": "stdout",
     "output_type": "stream",
     "text": [
      "['maçã', 'banana', 'laranja', 'uva']\n",
      "uva\n",
      "['maçã', 'banana', 'laranja']\n"
     ]
    }
   ],
   "source": [
    "# frutas.append('Açai')\n",
    "print(frutas)\n",
    "# print(frutas.index('Açai'))\n",
    "print(frutas.pop())\n",
    "print(frutas)"
   ]
  },
  {
   "cell_type": "code",
   "execution_count": 105,
   "id": "87a859a4",
   "metadata": {},
   "outputs": [
    {
     "name": "stdout",
     "output_type": "stream",
     "text": [
      "['Janbo', 'maçã', 'banana', 'laranja']\n",
      "['maçã', 'banana', 'laranja']\n"
     ]
    }
   ],
   "source": [
    "frutas.insert(0,'Janbo')\n",
    "print(frutas)\n",
    "frutas.remove('Janbo')\n",
    "print(frutas)"
   ]
  },
  {
   "cell_type": "markdown",
   "id": "f6e6c32b",
   "metadata": {},
   "source": [
    "# fazendo exer"
   ]
  },
  {
   "cell_type": "code",
   "execution_count": 106,
   "id": "8de363bf",
   "metadata": {},
   "outputs": [
    {
     "name": "stdout",
     "output_type": "stream",
     "text": [
      "banana\n",
      "uva\n"
     ]
    }
   ],
   "source": [
    "# ques01\n",
    "frutas = ['maçã', 'banana', 'laranja', 'uva']\n",
    "print(frutas[1])\n",
    "print(frutas[-1])"
   ]
  },
  {
   "cell_type": "code",
   "execution_count": 107,
   "id": "117b07c2",
   "metadata": {},
   "outputs": [
    {
     "name": "stdout",
     "output_type": "stream",
     "text": [
      "['maçã', 'banana', 'laranja']\n"
     ]
    }
   ],
   "source": [
    "# ques02\n",
    "print(frutas[0:3])"
   ]
  },
  {
   "cell_type": "code",
   "execution_count": 108,
   "id": "b56949d9",
   "metadata": {},
   "outputs": [
    {
     "name": "stdout",
     "output_type": "stream",
     "text": [
      "['maçã', 'banana', 'laranja', 'uva', 'Açai']\n"
     ]
    }
   ],
   "source": [
    "# ques03\n",
    "frutas.append('Açai')\n",
    "print(frutas)"
   ]
  },
  {
   "cell_type": "code",
   "execution_count": 109,
   "id": "5095af30",
   "metadata": {},
   "outputs": [
    {
     "name": "stdout",
     "output_type": "stream",
     "text": [
      "['maçã', 'Açai', 'banana', 'laranja', 'uva', 'Açai']\n"
     ]
    }
   ],
   "source": [
    "# ques04\n",
    "frutas.insert(1,'Açai')\n",
    "print(frutas)"
   ]
  },
  {
   "cell_type": "code",
   "execution_count": 110,
   "id": "e7a7c06b",
   "metadata": {},
   "outputs": [
    {
     "name": "stdout",
     "output_type": "stream",
     "text": [
      "['maçã', 'banana', 'laranja', 'uva', 'Açai']\n"
     ]
    }
   ],
   "source": [
    "# ques05\n",
    "frutas.remove('Açai')\n",
    "print(frutas)"
   ]
  },
  {
   "cell_type": "code",
   "execution_count": 111,
   "id": "d50bbf50",
   "metadata": {},
   "outputs": [
    {
     "name": "stdout",
     "output_type": "stream",
     "text": [
      "['maçã', 'banana', 'laranja', 'uva']\n"
     ]
    }
   ],
   "source": [
    "# ques06\n",
    "frutas.pop()\n",
    "print(frutas)"
   ]
  },
  {
   "cell_type": "code",
   "execution_count": 112,
   "id": "f3c54936",
   "metadata": {},
   "outputs": [
    {
     "name": "stdout",
     "output_type": "stream",
     "text": [
      "1\n"
     ]
    }
   ],
   "source": [
    "# ques07\n",
    "print(frutas.count('banana'))"
   ]
  },
  {
   "cell_type": "code",
   "execution_count": 113,
   "id": "69642206",
   "metadata": {},
   "outputs": [
    {
     "name": "stdout",
     "output_type": "stream",
     "text": [
      "['banana', 'laranja', 'maçã', 'uva']\n"
     ]
    }
   ],
   "source": [
    "# ques08\n",
    "frutas.sort()\n",
    "print(frutas)"
   ]
  },
  {
   "cell_type": "code",
   "execution_count": 114,
   "id": "d93c4490",
   "metadata": {},
   "outputs": [
    {
     "name": "stdout",
     "output_type": "stream",
     "text": [
      "['uva', 'maçã', 'laranja', 'banana']\n"
     ]
    }
   ],
   "source": [
    "# ques09\n",
    "frutas.sort(reverse=True)\n",
    "print(frutas)"
   ]
  },
  {
   "cell_type": "code",
   "execution_count": 115,
   "id": "f11f255b",
   "metadata": {},
   "outputs": [
    {
     "name": "stdout",
     "output_type": "stream",
     "text": [
      "True\n"
     ]
    }
   ],
   "source": [
    "# ques10\n",
    "print('maçã' in frutas)"
   ]
  },
  {
   "cell_type": "code",
   "execution_count": 116,
   "id": "999a524d",
   "metadata": {},
   "outputs": [
    {
     "name": "stdout",
     "output_type": "stream",
     "text": [
      "105\n"
     ]
    }
   ],
   "source": [
    "# ques11\n",
    "numeros = [5, 10, 15, 20, 25, 30]\n",
    "print(sum(numeros))"
   ]
  },
  {
   "cell_type": "code",
   "execution_count": 117,
   "id": "bdcdacf9",
   "metadata": {},
   "outputs": [
    {
     "name": "stdout",
     "output_type": "stream",
     "text": [
      "30\n"
     ]
    }
   ],
   "source": [
    "# ques12\n",
    "print(max(numeros))"
   ]
  },
  {
   "cell_type": "code",
   "execution_count": 118,
   "id": "d812e2c4",
   "metadata": {},
   "outputs": [
    {
     "name": "stdout",
     "output_type": "stream",
     "text": [
      "5\n"
     ]
    }
   ],
   "source": [
    "# ques13\n",
    "print(min(numeros))"
   ]
  },
  {
   "cell_type": "code",
   "execution_count": 119,
   "id": "83fc37c8",
   "metadata": {},
   "outputs": [
    {
     "name": "stdout",
     "output_type": "stream",
     "text": [
      "[5, 10, 15, 20, 25, 30]\n"
     ]
    }
   ],
   "source": [
    "# ques14\n",
    "print(numeros)"
   ]
  },
  {
   "cell_type": "code",
   "execution_count": 120,
   "id": "f5b712f5",
   "metadata": {},
   "outputs": [],
   "source": [
    "# num_removido = numeros.remove(25)\n",
    "# print(num_removido)"
   ]
  },
  {
   "cell_type": "code",
   "execution_count": 121,
   "id": "b25d0c33",
   "metadata": {},
   "outputs": [
    {
     "name": "stdout",
     "output_type": "stream",
     "text": [
      "[5, 10, 15, 20, 25, 30, 35]\n"
     ]
    }
   ],
   "source": [
    "# ques15\n",
    "numeros.append(35)\n",
    "print(numeros)"
   ]
  },
  {
   "cell_type": "code",
   "execution_count": 124,
   "id": "771cca2f",
   "metadata": {},
   "outputs": [
    {
     "name": "stdout",
     "output_type": "stream",
     "text": [
      "[5, 10, 15, 20, 25, 30, 35, 35]\n"
     ]
    }
   ],
   "source": [
    "# ques16\n",
    "numeros.reverse()\n",
    "print(numeros)"
   ]
  },
  {
   "cell_type": "code",
   "execution_count": 128,
   "id": "72eb4ff3",
   "metadata": {},
   "outputs": [
    {
     "name": "stdout",
     "output_type": "stream",
     "text": [
      "[35, 35, 30, 25, 20, 15, 10, 5]\n"
     ]
    }
   ],
   "source": [
    "# ques17\n",
    "numeros.sort(reverse=True)\n",
    "print(numeros)"
   ]
  },
  {
   "cell_type": "code",
   "execution_count": 129,
   "id": "4c3b60bd",
   "metadata": {},
   "outputs": [
    {
     "name": "stdout",
     "output_type": "stream",
     "text": [
      "A lista tem: 8 elementos\n"
     ]
    }
   ],
   "source": [
    "# ques18\n",
    "quantidade_elementos = len(numeros)\n",
    "print(f'A lista tem: {quantidade_elementos} elementos')"
   ]
  },
  {
   "cell_type": "code",
   "execution_count": 130,
   "id": "7863719e",
   "metadata": {},
   "outputs": [
    {
     "name": "stdout",
     "output_type": "stream",
     "text": [
      "Posição do número 15 é: 5\n"
     ]
    }
   ],
   "source": [
    "# ques19\n",
    "posicao_15 = numeros.index(15)\n",
    "print(f'Posição do número 15 é: {posicao_15}')"
   ]
  },
  {
   "cell_type": "code",
   "execution_count": 132,
   "id": "6c1f4a3e",
   "metadata": {},
   "outputs": [
    {
     "name": "stdout",
     "output_type": "stream",
     "text": [
      "[15, 10, 5]\n"
     ]
    }
   ],
   "source": [
    "# ques20\n",
    "print(numeros[5:8])"
   ]
  },
  {
   "cell_type": "code",
   "execution_count": 133,
   "id": "0a562ed7",
   "metadata": {},
   "outputs": [
    {
     "name": "stdout",
     "output_type": "stream",
     "text": [
      "35\n",
      "35\n",
      "30\n",
      "25\n",
      "20\n",
      "15\n",
      "10\n",
      "5\n"
     ]
    }
   ],
   "source": [
    "# ques21\n",
    "for a in numeros:\n",
    "    print(a)"
   ]
  },
  {
   "cell_type": "code",
   "execution_count": 135,
   "id": "0765773d",
   "metadata": {},
   "outputs": [
    {
     "name": "stdout",
     "output_type": "stream",
     "text": [
      "0 35\n",
      "1 35\n",
      "2 30\n",
      "3 25\n",
      "4 20\n",
      "5 15\n",
      "6 10\n",
      "7 5\n"
     ]
    }
   ],
   "source": [
    "# ques22\n",
    "for indice, valor in enumerate(numeros):\n",
    "    print(indice,valor)"
   ]
  },
  {
   "cell_type": "code",
   "execution_count": null,
   "id": "a21b9703",
   "metadata": {},
   "outputs": [
    {
     "name": "stdout",
     "output_type": "stream",
     "text": [
      "['Ana', 'Eduardo', 'Carlos', 'Diana', 'Bruno']\n"
     ]
    }
   ],
   "source": [
    "# ques23\n",
    "nomes = ['Ana','Eduardo','Carlos','Diana']\n",
    "nomes.append('Bruno')\n",
    "print(nomes)"
   ]
  },
  {
   "cell_type": "code",
   "execution_count": null,
   "id": "7f22dff1",
   "metadata": {},
   "outputs": [
    {
     "name": "stdout",
     "output_type": "stream",
     "text": [
      "['Ana', 'Eduardo', 'Diana', 'Bruno']\n"
     ]
    }
   ],
   "source": [
    "# ques24\n",
    "nomes.remove('Carlos')\n",
    "print(nomes)"
   ]
  },
  {
   "cell_type": "code",
   "execution_count": null,
   "id": "e12676dd",
   "metadata": {},
   "outputs": [
    {
     "name": "stdout",
     "output_type": "stream",
     "text": [
      "True\n"
     ]
    }
   ],
   "source": [
    "# ques25\n",
    "print('Diana' in nomes)"
   ]
  },
  {
   "cell_type": "code",
   "execution_count": null,
   "id": "54cea3f5",
   "metadata": {},
   "outputs": [],
   "source": [
    "# ques26\n",
    "nomes.remove('Carlos')\n",
    "print(nomes)"
   ]
  },
  {
   "cell_type": "code",
   "execution_count": null,
   "id": "3e683936",
   "metadata": {},
   "outputs": [
    {
     "name": "stdout",
     "output_type": "stream",
     "text": [
      "[100, 200, 300, 400, 500, 600]\n"
     ]
    }
   ],
   "source": [
    "# ques27\n",
    "dados = [100,200,300,400,500]\n",
    "dados.append(600)\n",
    "print(dados)"
   ]
  },
  {
   "cell_type": "code",
   "execution_count": null,
   "id": "287d6ac2",
   "metadata": {},
   "outputs": [
    {
     "name": "stdout",
     "output_type": "stream",
     "text": [
      "300\n"
     ]
    }
   ],
   "source": [
    "# ques28\n",
    "print(dados[2])"
   ]
  },
  {
   "cell_type": "code",
   "execution_count": null,
   "id": "445f965c",
   "metadata": {},
   "outputs": [
    {
     "name": "stdout",
     "output_type": "stream",
     "text": [
      "[600]\n"
     ]
    }
   ],
   "source": [
    "# ques29\n",
    "del dados[0:5]\n",
    "print(dados)"
   ]
  },
  {
   "cell_type": "code",
   "execution_count": 146,
   "id": "76268d62",
   "metadata": {},
   "outputs": [
    {
     "name": "stdout",
     "output_type": "stream",
     "text": [
      "600\n"
     ]
    }
   ],
   "source": [
    "# ques30\n",
    "print(max(dados))\n"
   ]
  },
  {
   "cell_type": "code",
   "execution_count": 153,
   "id": "1c8be79a",
   "metadata": {},
   "outputs": [
    {
     "name": "stdout",
     "output_type": "stream",
     "text": [
      "[2, 4, 6, 8, 10, 12]\n"
     ]
    }
   ],
   "source": [
    "# ques31\n",
    "lista = [2,4,6,8,10,12]\n",
    "print(lista)\n"
   ]
  },
  {
   "cell_type": "code",
   "execution_count": 156,
   "id": "c042bd70",
   "metadata": {},
   "outputs": [
    {
     "name": "stdout",
     "output_type": "stream",
     "text": [
      "[4, 16, 36, 64, 100, 144]\n"
     ]
    }
   ],
   "source": [
    "# ques32\n",
    "lista_nova = [num ** 2 for num in lista]\n",
    "print(lista_nova)"
   ]
  },
  {
   "cell_type": "code",
   "execution_count": 157,
   "id": "8a7821e2",
   "metadata": {},
   "outputs": [
    {
     "name": "stdout",
     "output_type": "stream",
     "text": [
      "[2, 4, 6, 8, 10, 12]\n",
      "[2, 4, 6, 8, 10, 12, 14, 16]\n"
     ]
    }
   ],
   "source": [
    "# ques33\n",
    "outra_lista = [14,16]\n",
    "print(lista)\n",
    "lista.extend(outra_lista)\n",
    "print(lista)"
   ]
  },
  {
   "cell_type": "code",
   "execution_count": 166,
   "id": "4a5277a9",
   "metadata": {},
   "outputs": [
    {
     "name": "stdout",
     "output_type": "stream",
     "text": [
      "8\n"
     ]
    }
   ],
   "source": [
    "# ques34\n",
    "print(len(lista))"
   ]
  },
  {
   "cell_type": "code",
   "execution_count": 174,
   "id": "25becb1e",
   "metadata": {},
   "outputs": [
    {
     "name": "stdout",
     "output_type": "stream",
     "text": [
      "[2, 4, 6, 8, 10, 12, 14, 16]\n"
     ]
    }
   ],
   "source": [
    "# ques35\n",
    "lista.reverse()\n",
    "print(lista)"
   ]
  },
  {
   "cell_type": "code",
   "execution_count": null,
   "id": "59a934e3",
   "metadata": {},
   "outputs": [
    {
     "name": "stdout",
     "output_type": "stream",
     "text": [
      "['Notebook', 'Teclado', 'Mouse']\n",
      "['Notebook', 'Teclado', 'Mouse', 'Fone']\n"
     ]
    }
   ],
   "source": [
    "# ques36\n",
    "carrinho = ['Notebook', 'Teclado','Mouse']\n",
    "print(carrinho)\n",
    "carrinho.append('Fone')\n",
    "print(carrinho)\n"
   ]
  },
  {
   "cell_type": "code",
   "execution_count": null,
   "id": "7cffdb96",
   "metadata": {},
   "outputs": [
    {
     "name": "stdout",
     "output_type": "stream",
     "text": [
      "['Notebook', 'Teclado', 'Mouse', 'Fone']\n",
      "['Notebook', 'Teclado', 'Fone']\n"
     ]
    }
   ],
   "source": [
    "# ques37\n",
    "print(carrinho)\n",
    "carrinho.remove('Mouse')\n",
    "print(carrinho)"
   ]
  },
  {
   "cell_type": "code",
   "execution_count": 177,
   "id": "5456ef39",
   "metadata": {},
   "outputs": [
    {
     "name": "stdout",
     "output_type": "stream",
     "text": [
      "Total de itens:  3\n"
     ]
    }
   ],
   "source": [
    "# ques38\n",
    "\n",
    "print('Total de itens: ',len(carrinho))"
   ]
  },
  {
   "cell_type": "code",
   "execution_count": 178,
   "id": "907fefe9",
   "metadata": {},
   "outputs": [
    {
     "name": "stdout",
     "output_type": "stream",
     "text": [
      "Notebook 2500\n",
      "Teclado 100\n",
      "Fone 150\n"
     ]
    }
   ],
   "source": [
    "# ques39\n",
    "precos = [2500,100,150]\n",
    "for item, valor in zip(carrinho, precos):\n",
    "    print(item, valor)"
   ]
  },
  {
   "cell_type": "code",
   "execution_count": 179,
   "id": "f2b54665",
   "metadata": {},
   "outputs": [
    {
     "name": "stdout",
     "output_type": "stream",
     "text": [
      "True\n"
     ]
    }
   ],
   "source": [
    "# ques40\n",
    "print('Notebook' in carrinho)"
   ]
  }
 ],
 "metadata": {
  "kernelspec": {
   "display_name": "base",
   "language": "python",
   "name": "python3"
  },
  "language_info": {
   "codemirror_mode": {
    "name": "ipython",
    "version": 3
   },
   "file_extension": ".py",
   "mimetype": "text/x-python",
   "name": "python",
   "nbconvert_exporter": "python",
   "pygments_lexer": "ipython3",
   "version": "3.12.7"
  }
 },
 "nbformat": 4,
 "nbformat_minor": 5
}
