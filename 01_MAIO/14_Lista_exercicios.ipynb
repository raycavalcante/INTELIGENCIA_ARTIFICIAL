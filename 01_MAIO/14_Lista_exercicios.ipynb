{
 "cells": [
  {
   "cell_type": "markdown",
   "id": "690c0b70-fbb0-445e-acc5-2319e92ad797",
   "metadata": {},
   "source": [
    "# LISTA DE EXERCICIOS"
   ]
  },
  {
   "cell_type": "code",
   "execution_count": 2,
   "id": "3b79f593-6139-41b5-afec-5072b1450e85",
   "metadata": {},
   "outputs": [
    {
     "name": "stdout",
     "output_type": "stream",
     "text": [
      "Entre com seu nome:  ray santos\n"
     ]
    },
    {
     "name": "stdout",
     "output_type": "stream",
     "text": [
      "Seja bem vindo ray santos! \n"
     ]
    }
   ],
   "source": [
    "# ques 01\n",
    "nome = input('Entre com seu nome: ')\n",
    "print(f'Seja bem vindo {nome}! ')"
   ]
  },
  {
   "cell_type": "code",
   "execution_count": 3,
   "id": "fac76ee9-34ae-4b25-a98a-2cef2d2b5e07",
   "metadata": {},
   "outputs": [
    {
     "name": "stdout",
     "output_type": "stream",
     "text": [
      "Entre com um número:  10\n",
      "Entre com outro número:  10\n"
     ]
    },
    {
     "name": "stdout",
     "output_type": "stream",
     "text": [
      "Soma:  20\n"
     ]
    }
   ],
   "source": [
    "# ques02\n",
    "num = int(input('Entre com um número: '))\n",
    "num2 = int(input('Entre com outro número: '))\n",
    "print('Soma: ',num+num2)"
   ]
  },
  {
   "cell_type": "code",
   "execution_count": 5,
   "id": "e9746765-7f72-4a68-b667-4a9582dd78ec",
   "metadata": {},
   "outputs": [
    {
     "name": "stdout",
     "output_type": "stream",
     "text": [
      "Entre com um número:  10\n",
      "Entre com outro número:  2\n"
     ]
    },
    {
     "name": "stdout",
     "output_type": "stream",
     "text": [
      "Soma:  12\n",
      "Subtração:  8\n"
     ]
    }
   ],
   "source": [
    "# ques03\n",
    "num = int(input('Entre com um número: '))\n",
    "num2 = int(input('Entre com outro número: '))\n",
    "print('Soma: ',num+num2)\n",
    "print('Subtração: ',num-num2)"
   ]
  },
  {
   "cell_type": "code",
   "execution_count": 10,
   "id": "c528533b-f96f-42e4-b4f3-5ca0904ab085",
   "metadata": {},
   "outputs": [
    {
     "name": "stdout",
     "output_type": "stream",
     "text": [
      "Entre com seu nome:  ray\n",
      "Entre com sua idade:  20\n",
      "Entre com sua cidade:  tefe\n"
     ]
    },
    {
     "name": "stdout",
     "output_type": "stream",
     "text": [
      "Nome:  ray\n",
      "Idade:  20\n",
      "CIdade:  tefe\n"
     ]
    }
   ],
   "source": [
    "# ques04\n",
    "nome = str(input('Entre com seu nome: '))\n",
    "idade = int(input('Entre com sua idade: '))\n",
    "cidade = str(input('Entre com sua cidade: '))\n",
    "print('Nome: ',nome)\n",
    "print('Idade: ',idade)\n",
    "print('CIdade: ',cidade)"
   ]
  },
  {
   "cell_type": "code",
   "execution_count": 11,
   "id": "b3106584-25b9-4508-92a5-47fc1bbc00bf",
   "metadata": {},
   "outputs": [
    {
     "name": "stdout",
     "output_type": "stream",
     "text": [
      "Entre com um número:  10\n",
      "Entre com outro número:  10\n",
      "Entre com outro número:  10\n"
     ]
    },
    {
     "name": "stdout",
     "output_type": "stream",
     "text": [
      "Média:  10.0\n"
     ]
    }
   ],
   "source": [
    "# ques05\n",
    "num = int(input('Entre com um número: '))\n",
    "num1 = int(input('Entre com outro número: '))\n",
    "num2 = int(input('Entre com outro número: '))\n",
    "print('Média: ',((num+num1+num2)/3))"
   ]
  },
  {
   "cell_type": "code",
   "execution_count": null,
   "id": "2e6cc5a2-739f-4eea-95c0-bbc43336ddcb",
   "metadata": {},
   "outputs": [],
   "source": [
    "# ques06\n",
    "b = float(input('Base: '))\n",
    "a = float(input('Altura: '))\n",
    "print('Àrea: ',(a*b))"
   ]
  },
  {
   "cell_type": "code",
   "execution_count": 12,
   "id": "4e36bbef-6081-429d-8b1d-504137b32a15",
   "metadata": {},
   "outputs": [
    {
     "name": "stdout",
     "output_type": "stream",
     "text": [
      "Entre com a temperatura em celcius:  10\n"
     ]
    },
    {
     "name": "stdout",
     "output_type": "stream",
     "text": [
      "Fahrenheit:  50.0\n"
     ]
    }
   ],
   "source": [
    "# ques07\n",
    "c = float(input('Entre com a temperatura em celcius: '))\n",
    "f = (c* (9/5)) + 32\n",
    "print('Fahrenheit: ',f)"
   ]
  },
  {
   "cell_type": "code",
   "execution_count": 13,
   "id": "a96d5613-fffb-43a4-942e-428e05f4ebbb",
   "metadata": {},
   "outputs": [
    {
     "name": "stdout",
     "output_type": "stream",
     "text": [
      "Entre com o lado:  10\n"
     ]
    },
    {
     "name": "stdout",
     "output_type": "stream",
     "text": [
      "Perimetro:  40\n"
     ]
    }
   ],
   "source": [
    "# ques08\n",
    "lado = int(input('Entre com o lado: '))\n",
    "p = lado * 4\n",
    "print('Perimetro: ',p)"
   ]
  },
  {
   "cell_type": "code",
   "execution_count": 15,
   "id": "4c311a75-76c1-467e-b00c-6f0735d69033",
   "metadata": {},
   "outputs": [
    {
     "name": "stdout",
     "output_type": "stream",
     "text": [
      "Entre com o valor em reais R$:  10\n",
      "Cotação do dolar:  2\n"
     ]
    },
    {
     "name": "stdout",
     "output_type": "stream",
     "text": [
      "Valor em Dolar:  5.0\n"
     ]
    }
   ],
   "source": [
    " # ques09\n",
    "valor_rais = float(input('Entre com o valor em reais R$: '))\n",
    "taxa = float(input('Cotação do dolar: '))\n",
    "valor_convertido = valor_rais / taxa\n",
    "print('Valor em Dolar: ',valor_convertido)"
   ]
  },
  {
   "cell_type": "code",
   "execution_count": 1,
   "id": "7a53c515-8afe-4755-818d-db25a935bf60",
   "metadata": {},
   "outputs": [
    {
     "name": "stdout",
     "output_type": "stream",
     "text": [
      "Àrea:  15.0\n"
     ]
    }
   ],
   "source": [
    "# ques10\n",
    "base = float(input('Entre com a base: '))\n",
    "altura = float(input('Entre com a altura: '))\n",
    "area = (base * altura) / 2\n",
    "print('Àrea: ',area)"
   ]
  },
  {
   "cell_type": "code",
   "execution_count": 3,
   "id": "11f5990d",
   "metadata": {},
   "outputs": [
    {
     "name": "stdout",
     "output_type": "stream",
     "text": [
      "IMC:  23.437499999999996\n"
     ]
    }
   ],
   "source": [
    "# ques11\n",
    "peso = float(input('Entre com seu peso: '))\n",
    "altura = float(input('Entre com seu peso: '))\n",
    "\n",
    "imc = peso / (altura * altura)\n",
    "print('IMC: ',imc)"
   ]
  },
  {
   "cell_type": "code",
   "execution_count": null,
   "id": "3509bd99",
   "metadata": {},
   "outputs": [
    {
     "name": "stdout",
     "output_type": "stream",
     "text": [
      "Preço final:  100.0\n"
     ]
    }
   ],
   "source": [
    "# ques12\n",
    "preco_original = float(input('Entre com peso original: '))\n",
    "per_desconto = float(input('Entre com o percentual de desconto: '))\n",
    "preco_final = preco_original - (preco_original * per_desconto / 100)\n",
    "print('Preço final: ',preco_final)"
   ]
  },
  {
   "cell_type": "code",
   "execution_count": 5,
   "id": "b12799f9",
   "metadata": {},
   "outputs": [
    {
     "name": "stdout",
     "output_type": "stream",
     "text": [
      "Novo salário:  10000.0\n"
     ]
    }
   ],
   "source": [
    "# ques13\n",
    "salario = float(input('Entre com o salário atual: '))\n",
    "per_aumento = float(input('Entre com o percentual de aumento: '))\n",
    "novo_salario = salario + (salario * per_aumento / 100)\n",
    "print('Novo salário: ',novo_salario)"
   ]
  },
  {
   "cell_type": "code",
   "execution_count": 7,
   "id": "c834ab3d",
   "metadata": {},
   "outputs": [
    {
     "name": "stdout",
     "output_type": "stream",
     "text": [
      "10445.0\n"
     ]
    }
   ],
   "source": [
    "# ques14\n",
    "salario = float(input('Entre com o salário atual: '))\n",
    "valor_bonus = float(input('Entre com o valor do bonus: '))\n",
    "salario_total = salario + valor_bonus\n",
    "print(salario_total)"
   ]
  },
  {
   "cell_type": "code",
   "execution_count": 8,
   "id": "3c4d7737",
   "metadata": {},
   "outputs": [
    {
     "name": "stdout",
     "output_type": "stream",
     "text": [
      "Custo:  20.0\n"
     ]
    }
   ],
   "source": [
    "# ques15\n",
    "km = float(input('Entre com a distância em km: '))\n",
    "consumo_medio = float(input('Entre com o consumo médio: '))\n",
    "preco_combustivel = float(input('Entre com o preso do combustivel: '))\n",
    "custo = (km / consumo_medio) / preco_combustivel\n",
    "print('Custo: ',custo)"
   ]
  },
  {
   "cell_type": "code",
   "execution_count": null,
   "id": "35e7038f",
   "metadata": {},
   "outputs": [
    {
     "name": "stdout",
     "output_type": "stream",
     "text": [
      "Tot5al em metros:  10.0\n"
     ]
    }
   ],
   "source": [
    "# ques16\n",
    "cm = float(input('Entre com o valor em cetimetros: '))\n",
    "metros = cm / 100\n",
    "print('Total em metros: ',metros)"
   ]
  },
  {
   "cell_type": "code",
   "execution_count": 10,
   "id": "002accfa",
   "metadata": {},
   "outputs": [
    {
     "name": "stdout",
     "output_type": "stream",
     "text": [
      "Volume:  1.0\n"
     ]
    }
   ],
   "source": [
    "# ques17\n",
    "import math as mt\n",
    "aresta = float(input('Entre com o valor da aresta: '))\n",
    "volume = mt.pow(aresta, 3)\n",
    "print('Volume: ',volume)"
   ]
  },
  {
   "cell_type": "code",
   "execution_count": 12,
   "id": "35dfd8f5",
   "metadata": {},
   "outputs": [
    {
     "name": "stdout",
     "output_type": "stream",
     "text": [
      "Valor me minutos:  1.6666666666666667\n"
     ]
    }
   ],
   "source": [
    "# ques18\n",
    "segundos = float(input('Entre com o valor em segundos: '))\n",
    "minutos = segundos / 60\n",
    "print('Valor me minutos: ',minutos)"
   ]
  },
  {
   "cell_type": "code",
   "execution_count": null,
   "id": "c4768c96",
   "metadata": {},
   "outputs": [],
   "source": [
    "# QUES19\n",
    "valor_total = float(input('Entre com o valor total: '))\n",
    "valor_parcial = float(input('Entre com o valor parcial: '))\n",
    "percentual = (valor_parcial / valor_total) * 100\n",
    "print('Percentual: ',percentual)"
   ]
  },
  {
   "cell_type": "code",
   "execution_count": 14,
   "id": "5052b8b8",
   "metadata": {},
   "outputs": [
    {
     "name": "stdout",
     "output_type": "stream",
     "text": [
      "Raio:  314.0\n"
     ]
    }
   ],
   "source": [
    "# ques20\n",
    "raio = float(input('Entre com o valor do raio: '))\n",
    "pi = 3.14\n",
    "area = pi * (mt.pow(raio, 2))\n",
    "print('Raio: ',area)"
   ]
  },
  {
   "cell_type": "code",
   "execution_count": 15,
   "id": "f1435ba4",
   "metadata": {},
   "outputs": [
    {
     "name": "stdout",
     "output_type": "stream",
     "text": [
      "Soma:  12\n"
     ]
    }
   ],
   "source": [
    "# ques21\n",
    "num1 = int(input('Entre com um número: '))\n",
    "num2 = int(input('Entre com outro número: '))\n",
    "num3 = int(input('Entre com outro número: '))\n",
    "soma = num1 + num2 +num3\n",
    "print('Soma: ',soma)"
   ]
  },
  {
   "cell_type": "code",
   "execution_count": 16,
   "id": "64b90be1",
   "metadata": {},
   "outputs": [
    {
     "name": "stdout",
     "output_type": "stream",
     "text": [
      "Multiplicação:  4\n"
     ]
    }
   ],
   "source": [
    "# ques22\n",
    "num1 = int(input('Entre com um número: '))\n",
    "num2 = int(input('Entre com outro número: '))\n",
    "mult = num1 * num2\n",
    "print('Multiplicação: ',mult)"
   ]
  },
  {
   "cell_type": "code",
   "execution_count": 17,
   "id": "e8b28337",
   "metadata": {},
   "outputs": [
    {
     "name": "stdout",
     "output_type": "stream",
     "text": [
      "Multiplicação:  8\n"
     ]
    }
   ],
   "source": [
    "# ques23\n",
    "num1 = int(input('Entre com um número: '))\n",
    "num2 = int(input('Entre com outro número: '))\n",
    "menos = num1 - num2\n",
    "print('Multiplicação: ',menos)"
   ]
  },
  {
   "cell_type": "code",
   "execution_count": 18,
   "id": "9cd56264",
   "metadata": {},
   "outputs": [
    {
     "name": "stdout",
     "output_type": "stream",
     "text": [
      "Multiplicação:  5.0\n"
     ]
    }
   ],
   "source": [
    "# ques24\n",
    "num1 = int(input('Entre com um número: '))\n",
    "num2 = int(input('Entre com outro número: '))\n",
    "div = num1 / num2\n",
    "print('Multiplicação: ',div)"
   ]
  },
  {
   "cell_type": "code",
   "execution_count": 19,
   "id": "c9ced24f",
   "metadata": {},
   "outputs": [
    {
     "name": "stdout",
     "output_type": "stream",
     "text": [
      "Média:  2.0\n"
     ]
    }
   ],
   "source": [
    "# ques25\n",
    "num1 = int(input('Entre com um número: '))\n",
    "num2 = int(input('Entre com outro número: '))\n",
    "num3 = int(input('Entre com outro número: '))\n",
    "p1 = int(input('Entre com um peso: '))\n",
    "p2 = int(input('Entre com outro peso: '))\n",
    "p3 = int(input('Entre com outro peso: '))\n",
    "media = (num1 + p1 + num2 + p2 + num3 + p3) / (p1 + p2+p3)\n",
    "print('Média: ',media)"
   ]
  },
  {
   "cell_type": "code",
   "execution_count": 20,
   "id": "53d30784",
   "metadata": {},
   "outputs": [
    {
     "name": "stdout",
     "output_type": "stream",
     "text": [
      "Salário liquido:  9000.0\n"
     ]
    }
   ],
   "source": [
    "# ques26\n",
    "salario_bruto = float(input('Entre com o salário bruto: '))\n",
    "total_desconto = float(input('Entre com o valor total de desconto: '))\n",
    "salario_liquido = salario_bruto - total_desconto\n",
    "print('Salário liquido: ',salario_liquido)"
   ]
  },
  {
   "cell_type": "code",
   "execution_count": 21,
   "id": "e561c940",
   "metadata": {},
   "outputs": [
    {
     "name": "stdout",
     "output_type": "stream",
     "text": [
      "Preço final:  2.0\n"
     ]
    }
   ],
   "source": [
    "# ques27\n",
    "preco_unitario = float(input('Entre com o poso unitário: '))\n",
    "qtd_produto = float(input('Entre com o quantidaded de produtos: '))\n",
    "preco_final = preco_unitario * qtd_produto\n",
    "print('Preço final: ',preco_final)"
   ]
  },
  {
   "cell_type": "code",
   "execution_count": 22,
   "id": "8310db71",
   "metadata": {},
   "outputs": [
    {
     "name": "stdout",
     "output_type": "stream",
     "text": [
      "Metros:  100000.0\n"
     ]
    }
   ],
   "source": [
    "# ques28\n",
    "km = float(input('Entre com a distância em km: '))\n",
    "metros = km * 100\n",
    "print('Metros: ',metros)"
   ]
  },
  {
   "cell_type": "code",
   "execution_count": 24,
   "id": "a7f9f469",
   "metadata": {},
   "outputs": [
    {
     "name": "stdout",
     "output_type": "stream",
     "text": [
      "Centimetros:  1000.0\n"
     ]
    }
   ],
   "source": [
    "# ques29\n",
    "mt = float(input('Entre com a distância em metros: '))\n",
    "cm = mt * 100\n",
    "print('Centimetros: ',cm)"
   ]
  },
  {
   "cell_type": "code",
   "execution_count": 25,
   "id": "916dee5c",
   "metadata": {},
   "outputs": [
    {
     "name": "stdout",
     "output_type": "stream",
     "text": [
      "Comprimento:  31.400000000000002\n"
     ]
    }
   ],
   "source": [
    "# ques30\n",
    "diametro = float(input('Entre com o diametro: '))\n",
    "comprimento = pi * diametro\n",
    "print('Comprimento: ',comprimento)"
   ]
  },
  {
   "cell_type": "code",
   "execution_count": 26,
   "id": "ab74fe8c",
   "metadata": {},
   "outputs": [
    {
     "name": "stdout",
     "output_type": "stream",
     "text": [
      "Total de dias:  365\n"
     ]
    }
   ],
   "source": [
    "# ques31\n",
    "anos = int(input('Entre com a quantidade de anos: '))\n",
    "dias = anos * 365\n",
    "print('Total de dias: ',dias)"
   ]
  },
  {
   "cell_type": "code",
   "execution_count": 28,
   "id": "e59e910c",
   "metadata": {},
   "outputs": [
    {
     "name": "stdout",
     "output_type": "stream",
     "text": [
      "Total de minutos:  60\n"
     ]
    }
   ],
   "source": [
    "# ques32\n",
    "horas = int(input('Entre com a quantidade de horas: '))\n",
    "min = horas * 60\n",
    "print('Total de minutos: ',min)"
   ]
  },
  {
   "cell_type": "code",
   "execution_count": 29,
   "id": "4b462c72",
   "metadata": {},
   "outputs": [
    {
     "name": "stdout",
     "output_type": "stream",
     "text": [
      "Total de segundos:  60\n"
     ]
    }
   ],
   "source": [
    "# ques33\n",
    "min = int(input('Entre com a quantidade de minutos: '))\n",
    "seg = min * 60\n",
    "print('Total de segundos: ',seg)"
   ]
  },
  {
   "cell_type": "code",
   "execution_count": 30,
   "id": "7d018e06",
   "metadata": {},
   "outputs": [
    {
     "name": "stdout",
     "output_type": "stream",
     "text": [
      "Àrea:  2.0\n"
     ]
    }
   ],
   "source": [
    "# ques34\n",
    "base = float(input('Entre com o base: '))\n",
    "altura = float(input('Entre com o altura: '))\n",
    "area = base * altura\n",
    "print('Àrea: ',area)"
   ]
  },
  {
   "cell_type": "code",
   "execution_count": 31,
   "id": "7daba671",
   "metadata": {},
   "outputs": [
    {
     "name": "stdout",
     "output_type": "stream",
     "text": [
      "Àrea:  2.0\n"
     ]
    }
   ],
   "source": [
    "# ques35\n",
    "base_maior = float(input('Entre com a base maior: '))\n",
    "base_menor = float(input('Entre com a base menor: '))\n",
    "altura = float(input('Entre com a altura: '))\n",
    "area = ((base_maior + base_menor) * altura) / 2\n",
    "print('Àrea: ',area)"
   ]
  },
  {
   "cell_type": "code",
   "execution_count": null,
   "id": "1ee4b74c",
   "metadata": {},
   "outputs": [
    {
     "name": "stdout",
     "output_type": "stream",
     "text": [
      "Velocidade:  0.5\n"
     ]
    }
   ],
   "source": [
    "# ques36\n",
    "distancia = float(input('Entre com a diatancia percorrida: '))\n",
    "tempo = float(input('Entre com o tempo gasto: '))\n",
    "velocidade = distancia / tempo\n",
    "print('Velocidade: ',velocidade)"
   ]
  },
  {
   "cell_type": "code",
   "execution_count": 33,
   "id": "f0c709cc",
   "metadata": {},
   "outputs": [
    {
     "name": "stdout",
     "output_type": "stream",
     "text": [
      "Energia:  20.0\n"
     ]
    }
   ],
   "source": [
    "# ques37\n",
    "massa = float(input('Entre com  o valor da massa: '))\n",
    "velocidade = float(input('Entre com a velocidade: '))\n",
    "energia = 0.5 * massa * (velocidade ** 2)\n",
    "print(\"Energia: \",energia)"
   ]
  },
  {
   "cell_type": "code",
   "execution_count": 34,
   "id": "b4e31f90",
   "metadata": {},
   "outputs": [
    {
     "name": "stdout",
     "output_type": "stream",
     "text": [
      "Soma:  12.0\n",
      "Subtração:  8.0\n"
     ]
    }
   ],
   "source": [
    "# ques38\n",
    "num1 = float(input('Entre com um número: '))\n",
    "num2 = float(input('Entre com outro número: '))\n",
    "print('Soma: ',num1+num2)\n",
    "print('Subtração: ',num1-num2)"
   ]
  },
  {
   "cell_type": "code",
   "execution_count": 35,
   "id": "7bdbe948",
   "metadata": {},
   "outputs": [
    {
     "name": "stdout",
     "output_type": "stream",
     "text": [
      "Ângulo:  60.0\n"
     ]
    }
   ],
   "source": [
    "# ques39\n",
    "n = float(input('Entre com o números de lado: '))\n",
    "angulo = ((n-2) * 180) / n\n",
    "print('Ângulo: ',angulo)"
   ]
  },
  {
   "cell_type": "code",
   "execution_count": 37,
   "id": "e385bfa8",
   "metadata": {},
   "outputs": [
    {
     "name": "stdout",
     "output_type": "stream",
     "text": [
      "Consumo:  5.0\n"
     ]
    }
   ],
   "source": [
    "# ques40\n",
    "distancia = float(input('Entre com a distância percorrida: '))\n",
    "combustivel = float(input('Entre com o gasto de combustivel: '))\n",
    "consumo_medio = distancia / combustivel\n",
    "print('Consumo: ',consumo_medio)"
   ]
  }
 ],
 "metadata": {
  "kernelspec": {
   "display_name": "base",
   "language": "python",
   "name": "python3"
  },
  "language_info": {
   "codemirror_mode": {
    "name": "ipython",
    "version": 3
   },
   "file_extension": ".py",
   "mimetype": "text/x-python",
   "name": "python",
   "nbconvert_exporter": "python",
   "pygments_lexer": "ipython3",
   "version": "3.12.7"
  }
 },
 "nbformat": 4,
 "nbformat_minor": 5
}
