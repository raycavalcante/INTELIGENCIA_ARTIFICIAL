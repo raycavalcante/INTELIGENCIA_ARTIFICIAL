{
 "cells": [
  {
   "cell_type": "markdown",
   "id": "690c0b70-fbb0-445e-acc5-2319e92ad797",
   "metadata": {},
   "source": [
    "# LISTA DE EXERCICIOS"
   ]
  },
  {
   "cell_type": "code",
   "execution_count": 2,
   "id": "3b79f593-6139-41b5-afec-5072b1450e85",
   "metadata": {},
   "outputs": [
    {
     "name": "stdin",
     "output_type": "stream",
     "text": [
      "Entre com seu nome:  ray santos\n"
     ]
    },
    {
     "name": "stdout",
     "output_type": "stream",
     "text": [
      "Seja bem vindo ray santos! \n"
     ]
    }
   ],
   "source": [
    "# ques 01\n",
    "nome = input('Entre com seu nome: ')\n",
    "print(f'Seja bem vindo {nome}! ')"
   ]
  },
  {
   "cell_type": "code",
   "execution_count": 3,
   "id": "fac76ee9-34ae-4b25-a98a-2cef2d2b5e07",
   "metadata": {},
   "outputs": [
    {
     "name": "stdin",
     "output_type": "stream",
     "text": [
      "Entre com um número:  10\n",
      "Entre com outro número:  10\n"
     ]
    },
    {
     "name": "stdout",
     "output_type": "stream",
     "text": [
      "Soma:  20\n"
     ]
    }
   ],
   "source": [
    "# ques02\n",
    "num = int(input('Entre com um número: '))\n",
    "num2 = int(input('Entre com outro número: '))\n",
    "print('Soma: ',num+num2)"
   ]
  },
  {
   "cell_type": "code",
   "execution_count": 5,
   "id": "e9746765-7f72-4a68-b667-4a9582dd78ec",
   "metadata": {},
   "outputs": [
    {
     "name": "stdin",
     "output_type": "stream",
     "text": [
      "Entre com um número:  10\n",
      "Entre com outro número:  2\n"
     ]
    },
    {
     "name": "stdout",
     "output_type": "stream",
     "text": [
      "Soma:  12\n",
      "Subtração:  8\n"
     ]
    }
   ],
   "source": [
    "# ques03\n",
    "num = int(input('Entre com um número: '))\n",
    "num2 = int(input('Entre com outro número: '))\n",
    "print('Soma: ',num+num2)\n",
    "print('Subtração: ',num-num2)"
   ]
  },
  {
   "cell_type": "code",
   "execution_count": 10,
   "id": "c528533b-f96f-42e4-b4f3-5ca0904ab085",
   "metadata": {},
   "outputs": [
    {
     "name": "stdin",
     "output_type": "stream",
     "text": [
      "Entre com seu nome:  ray\n",
      "Entre com sua idade:  20\n",
      "Entre com sua cidade:  tefe\n"
     ]
    },
    {
     "name": "stdout",
     "output_type": "stream",
     "text": [
      "Nome:  ray\n",
      "Idade:  20\n",
      "CIdade:  tefe\n"
     ]
    }
   ],
   "source": [
    "# ques04\n",
    "nome = str(input('Entre com seu nome: '))\n",
    "idade = int(input('Entre com sua idade: '))\n",
    "cidade = str(input('Entre com sua cidade: '))\n",
    "print('Nome: ',nome)\n",
    "print('Idade: ',idade)\n",
    "print('CIdade: ',cidade)"
   ]
  },
  {
   "cell_type": "code",
   "execution_count": 11,
   "id": "b3106584-25b9-4508-92a5-47fc1bbc00bf",
   "metadata": {},
   "outputs": [
    {
     "name": "stdin",
     "output_type": "stream",
     "text": [
      "Entre com um número:  10\n",
      "Entre com outro número:  10\n",
      "Entre com outro número:  10\n"
     ]
    },
    {
     "name": "stdout",
     "output_type": "stream",
     "text": [
      "Média:  10.0\n"
     ]
    }
   ],
   "source": [
    "# ques05\n",
    "num = int(input('Entre com um número: '))\n",
    "num1 = int(input('Entre com outro número: '))\n",
    "num2 = int(input('Entre com outro número: '))\n",
    "print('Média: ',((num+num1+num2)/3))"
   ]
  },
  {
   "cell_type": "code",
   "execution_count": null,
   "id": "2e6cc5a2-739f-4eea-95c0-bbc43336ddcb",
   "metadata": {},
   "outputs": [],
   "source": [
    "# ques06\n",
    "b = float(input('Base: '))\n",
    "a = float(input('Altura: '))\n",
    "print('Àrea: ',(a*b))"
   ]
  },
  {
   "cell_type": "code",
   "execution_count": 12,
   "id": "4e36bbef-6081-429d-8b1d-504137b32a15",
   "metadata": {},
   "outputs": [
    {
     "name": "stdin",
     "output_type": "stream",
     "text": [
      "Entre com a temperatura em celcius:  10\n"
     ]
    },
    {
     "name": "stdout",
     "output_type": "stream",
     "text": [
      "Fahrenheit:  50.0\n"
     ]
    }
   ],
   "source": [
    "# ques07\n",
    "c = float(input('Entre com a temperatura em celcius: '))\n",
    "f = (c* (9/5)) + 32\n",
    "print('Fahrenheit: ',f)"
   ]
  },
  {
   "cell_type": "code",
   "execution_count": 13,
   "id": "a96d5613-fffb-43a4-942e-428e05f4ebbb",
   "metadata": {},
   "outputs": [
    {
     "name": "stdin",
     "output_type": "stream",
     "text": [
      "Entre com o lado:  10\n"
     ]
    },
    {
     "name": "stdout",
     "output_type": "stream",
     "text": [
      "Perimetro:  40\n"
     ]
    }
   ],
   "source": [
    "# ques08\n",
    "lado = int(input('Entre com o lado: '))\n",
    "p = lado * 4\n",
    "print('Perimetro: ',p)"
   ]
  },
  {
   "cell_type": "code",
   "execution_count": 15,
   "id": "4c311a75-76c1-467e-b00c-6f0735d69033",
   "metadata": {},
   "outputs": [
    {
     "name": "stdin",
     "output_type": "stream",
     "text": [
      "Entre com o valor em reais R$:  10\n",
      "Cotação do dolar:  2\n"
     ]
    },
    {
     "name": "stdout",
     "output_type": "stream",
     "text": [
      "Valor em Dolar:  5.0\n"
     ]
    }
   ],
   "source": [
    " # ques09\n",
    "valor_rais = float(input('Entre com o valor em reais R$: '))\n",
    "taxa = float(input('Cotação do dolar: '))\n",
    "valor_convertido = valor_rais / taxa\n",
    "print('Valor em Dolar: ',valor_convertido)"
   ]
  },
  {
   "cell_type": "code",
   "execution_count": null,
   "id": "7a53c515-8afe-4755-818d-db25a935bf60",
   "metadata": {},
   "outputs": [],
   "source": [
    "# ques10\n"
   ]
  }
 ],
 "metadata": {
  "kernelspec": {
   "display_name": "Python 3 (ipykernel)",
   "language": "python",
   "name": "python3"
  },
  "language_info": {
   "codemirror_mode": {
    "name": "ipython",
    "version": 3
   },
   "file_extension": ".py",
   "mimetype": "text/x-python",
   "name": "python",
   "nbconvert_exporter": "python",
   "pygments_lexer": "ipython3",
   "version": "3.12.7"
  }
 },
 "nbformat": 4,
 "nbformat_minor": 5
}
