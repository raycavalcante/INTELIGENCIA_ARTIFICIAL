{
 "cells": [
  {
   "cell_type": "code",
   "execution_count": null,
   "id": "360b1e95-bc96-4b7a-a9a3-4e7705a4ffef",
   "metadata": {},
   "outputs": [],
   "source": [
    "animais = [\"cachorro\", \"gato\", \"elefante\", \"onça\", \"cobra\"]\n",
    "for i in animais: \n",
    "    print(i)"
   ]
  },
  {
   "cell_type": "code",
   "execution_count": null,
   "id": "70eb98bb-fdef-4084-b649-95a92e0d1f4e",
   "metadata": {},
   "outputs": [],
   "source": [
    "for i in range(5): # [0, 1 , 2, 3, 4]\n",
    "    print(i)"
   ]
  },
  {
   "cell_type": "code",
   "execution_count": null,
   "id": "0555f73a-924a-4239-a38f-14964088bc83",
   "metadata": {},
   "outputs": [],
   "source": [
    "for i in range(100):\n",
    "    if i%3==0 and i != 0:\n",
    "        print(i)"
   ]
  },
  {
   "cell_type": "code",
   "execution_count": null,
   "id": "2ce9fdb4-eef1-4334-a161-d22f158f4aa7",
   "metadata": {},
   "outputs": [],
   "source": [
    "produtos = ['coca', 'pepsi', 'guaraná', 'sprite', 'fanta', 'dolly', 'baré', 'guaraná jesus', 'teté']\n",
    "producao = [15000,12000,13000,5000,250, 3000, 5000, 500, 300]\n",
    "tamanho = len(produtos) # pegar a quantidade de itens da lista\n",
    "print(tamanho)"
   ]
  },
  {
   "cell_type": "code",
   "execution_count": null,
   "id": "0c6d759d-ae15-4b2a-bf6f-04ad5eca9e64",
   "metadata": {},
   "outputs": [],
   "source": [
    "# imprimir apenas os produtos que tenham a produção >= 1000\n",
    "for i in range(len(produtos)):\n",
    "    print(f'A produção do produto {produtos[i]} é de {producao[i]}')"
   ]
  },
  {
   "cell_type": "code",
   "execution_count": null,
   "id": "b63d8d35-bd31-4d25-b5a3-e7b47fb6c9cc",
   "metadata": {},
   "outputs": [],
   "source": [
    "print(f'A produção do produto {produtos[0]} é de {producao[0]}')\n",
    "print(f'A produção do produto {produtos[1]} é de {producao[1]}')\n",
    "print(f'A produção do produto {produtos[2]} é de {producao[2]}')\n",
    "print(f'A produção do produto {produtos[3]} é de {producao[3]}')\n",
    "print(f'A produção do produto {produtos[4]} é de {producao[4]}')"
   ]
  },
  {
   "cell_type": "code",
   "execution_count": 1,
   "id": "b510299a-8143-447d-86c4-2b3595d98769",
   "metadata": {},
   "outputs": [
    {
     "name": "stdout",
     "output_type": "stream",
     "text": [
      "arroz\n",
      "feijão\n",
      "macarrão\n",
      "azeite\n",
      "farinha\n",
      "açúcar\n"
     ]
    }
   ],
   "source": [
    "#1. Imprima todos os itens de uma lista de compras.\n",
    "lista_compras = ['arroz', 'feijão', 'macarrão', 'azeite', 'farinha', 'açúcar']\n",
    "for i in lista_compras:\n",
    "    print(i)"
   ]
  },
  {
   "cell_type": "code",
   "execution_count": 2,
   "id": "02fab187-006f-4d1e-bc42-e562895b4c0a",
   "metadata": {},
   "outputs": [
    {
     "name": "stdout",
     "output_type": "stream",
     "text": [
      "A soma dos itens da lista é: 150\n"
     ]
    }
   ],
   "source": [
    "#2. Calcule e exiba a soma de todos os números em uma lista.\n",
    "numeros = [10, 20, 30, 40, 50]\n",
    "soma = 0\n",
    "for i in numeros:\n",
    "    soma += i\n",
    "print('A soma dos itens da lista é: {}'.format(soma))\n"
   ]
  },
  {
   "cell_type": "code",
   "execution_count": 3,
   "id": "a71c664f-f97a-4ca7-9c00-df9c992d3481",
   "metadata": {},
   "outputs": [
    {
     "name": "stdout",
     "output_type": "stream",
     "text": [
      "A lista possui 5 números ímpares\n"
     ]
    }
   ],
   "source": [
    "#3. Conte quantos números ímpares existem em uma lista.\n",
    "\n",
    "numeros = [1, 4, 7, 10, 13, 16, 19, 22, 25]\n",
    "num_impar = 0\n",
    "for i in numeros:\n",
    "    if i%2 != 0:\n",
    "        num_impar += 1\n",
    "print('A lista possui {} números ímpares'.format(num_impar))"
   ]
  },
  {
   "cell_type": "code",
   "execution_count": 78,
   "id": "e92c7bde-7fc4-48b7-b3cc-4cc0b87f5613",
   "metadata": {},
   "outputs": [
    {
     "name": "stdout",
     "output_type": "stream",
     "text": [
      "5 é multiplo de 5\n",
      "10 é multiplo de 5\n",
      "20 é multiplo de 5\n",
      "25 é multiplo de 5\n",
      "30 é multiplo de 5\n",
      "40 é multiplo de 5\n",
      "45 é multiplo de 5\n"
     ]
    }
   ],
   "source": [
    "#4. Verifique quais números de uma lista são múltiplos de 5 e imprima-os.\n",
    "\n",
    "numeros = [5, 10, 13, 20, 25, 28, 30, 33, 40, 45]\n",
    "\n",
    "for i in numeros:\n",
    "    if i%5 == 0:\n",
    "        print('{} é multiplo de 5'.format(i))\n",
    "\n"
   ]
  },
  {
   "cell_type": "code",
   "execution_count": 4,
   "id": "2c545491-9e38-4fa9-9d27-e9c79674377e",
   "metadata": {},
   "outputs": [
    {
     "name": "stdout",
     "output_type": "stream",
     "text": [
      "[1, 2, 3, 4, 5, 6]\n",
      "[2, 4, 6, 8, 10, 12]\n"
     ]
    }
   ],
   "source": [
    "#5. Multiplique todos os valores de uma lista por 2 e armazene em uma nova lista.\n",
    "\n",
    "numeros = [1, 2, 3, 4, 5, 6]\n",
    "num_mult = []\n",
    "\n",
    "for i in numeros:\n",
    "    num_mult.append(i*2)\n",
    "print(numeros)\n",
    "print(num_mult)"
   ]
  },
  {
   "cell_type": "code",
   "execution_count": 81,
   "id": "ac948443-bc34-4b93-9859-856366dea9f4",
   "metadata": {},
   "outputs": [
    {
     "name": "stdout",
     "output_type": "stream",
     "text": [
      "['joão', 'maria', 'ana', 'carlos']\n",
      "['JOÃO', 'MARIA', 'ANA', 'CARLOS']\n"
     ]
    }
   ],
   "source": [
    "#6. Transforme todas as palavras de uma lista de nomes em maiúsculas.\n",
    "\n",
    "nomes = ['joão', 'maria', 'ana', 'carlos']\n",
    "nomes_maiusc = []\n",
    "for i in nomes:\n",
    "    nomes_maiusc.append(i.upper())\n",
    "print(nomes)\n",
    "print(nomes_maiusc)\n"
   ]
  },
  {
   "cell_type": "code",
   "execution_count": 82,
   "id": "70ad458f-6c59-444c-8858-ec8dfd2e7394",
   "metadata": {},
   "outputs": [
    {
     "name": "stdout",
     "output_type": "stream",
     "text": [
      "['   ', ' código  ', '  lista', ' estrutura ']\n",
      "['', 'código', 'lista', 'estrutura']\n"
     ]
    }
   ],
   "source": [
    "#7. Remova os espaços extras das palavras de uma lista.\n",
    "\n",
    "palavras = ['   ', ' código  ', '  lista', ' estrutura ']\n",
    "sem_espacos = []\n",
    "for i in palavras:\n",
    "    sem_espacos.append(i.strip())\n",
    "print(palavras)\n",
    "print(sem_espacos)"
   ]
  },
  {
   "cell_type": "code",
   "execution_count": null,
   "id": "5d7931a8-15c3-438b-bc97-0d69d7899ce0",
   "metadata": {},
   "outputs": [],
   "source": []
  },
  {
   "cell_type": "code",
   "execution_count": 8,
   "id": "a45550d9-0bef-410d-95b2-eb26f404d5d1",
   "metadata": {},
   "outputs": [
    {
     "name": "stdout",
     "output_type": "stream",
     "text": [
      "abacaxi\n",
      "amora\n",
      "acerola\n",
      "abacate\n"
     ]
    }
   ],
   "source": [
    "#8. Imprima apenas as palavras que começam com a letra \"A\".\n",
    "\n",
    "palavras = ['banana', 'abacaxi', 'uva', 'amora', 'laranja', 'acerola', 'abacate']\n",
    "for item in palavras:\n",
    "    if item.startswith('a'):\n",
    "        print(item)"
   ]
  },
  {
   "cell_type": "code",
   "execution_count": 10,
   "id": "80cd4314-6dd6-4aed-9346-30e25dadcc70",
   "metadata": {},
   "outputs": [
    {
     "name": "stdout",
     "output_type": "stream",
     "text": [
      "[0, 10, 20, 30, 40, 50, 60]\n",
      "[32.0, 50.0, 68.0, 86.0, 104.0, 122.0, 140.0]\n"
     ]
    }
   ],
   "source": [
    "#9. Dada uma lista de temperaturas em Celsius, converta todas para Fahrenheit.\n",
    "\n",
    "celsius = [0, 10, 20, 30, 40, 50, 60]\n",
    "fahrenheit = []\n",
    "for item in celsius:\n",
    "    fahrenheit.append(item*9/5+32)\n",
    "\n",
    "print(celsius)\n",
    "print(fahrenheit)\n"
   ]
  },
  {
   "cell_type": "code",
   "execution_count": 12,
   "id": "e60351c1-f578-48e6-8fbb-2d8b7f9ca381",
   "metadata": {},
   "outputs": [
    {
     "name": "stdout",
     "output_type": "stream",
     "text": [
      "Ana, você pode melhorar.\n",
      "Parabéns Bruno, sua nota foi ótima!\n",
      "Parabéns Carlos, sua nota foi ótima!\n",
      "Diana, você pode melhorar.\n",
      "Parabéns Eduardo, sua nota foi ótima!\n",
      "Pedro, você pode melhorar.\n"
     ]
    }
   ],
   "source": [
    "#11. Dada uma lista de alunos e suas notas, imprima o nome dos alunos que tiraram nota acima de 7.0.\n",
    "\n",
    "alunos = ['Ana', 'Bruno', 'Carlos', 'Diana', 'Eduardo', 'Pedro']\n",
    "notas = [6.5, 8.0, 7.2, 5.5, 9.1, 6.0]\n",
    "for item in range(len(alunos)):\n",
    "    if notas[item] > 7:\n",
    "        print('Parabéns {}, sua nota foi ótima!'.format(alunos[item]))\n",
    "    else:\n",
    "        print('{}, você pode melhorar.'.format(alunos[item]))\n"
   ]
  }
 ],
 "metadata": {
  "kernelspec": {
   "display_name": "Python 3 (ipykernel)",
   "language": "python",
   "name": "python3"
  },
  "language_info": {
   "codemirror_mode": {
    "name": "ipython",
    "version": 3
   },
   "file_extension": ".py",
   "mimetype": "text/x-python",
   "name": "python",
   "nbconvert_exporter": "python",
   "pygments_lexer": "ipython3",
   "version": "3.12.7"
  }
 },
 "nbformat": 4,
 "nbformat_minor": 5
}
