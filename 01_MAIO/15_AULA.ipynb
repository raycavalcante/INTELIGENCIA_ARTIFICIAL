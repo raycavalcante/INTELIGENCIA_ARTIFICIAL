{
 "cells": [
  {
   "cell_type": "markdown",
   "id": "5df6a475-a245-470e-9735-cc39129e3a22",
   "metadata": {},
   "source": [
    "# DESAFIO "
   ]
  },
  {
   "cell_type": "code",
   "execution_count": null,
   "id": "c3995e31",
   "metadata": {},
   "outputs": [
    {
     "name": "stdout",
     "output_type": "stream",
     "text": [
      "Valor do eixo X:  3\n",
      "Valor do eixo y:  -2\n"
     ]
    },
    {
     "name": "stdout",
     "output_type": "stream",
     "text": [
      "Q4\n"
     ]
    }
   ],
   "source": [
    "x = int(input('Valor do eixo X: '))\n",
    "y = int(input('Valor do eixo y: '))\n",
    "\n",
    "saida = 'Origem'\n",
    "\n",
    "match (x, y):\n",
    "    case _ if x != 0 and y == 0:\n",
    "        saida = 'Eixo X'\n",
    "    case _ if x == 0 and y != 0:\n",
    "        saida = 'Eixo Y'\n",
    "    case _ if x > 0 and y > 0:\n",
    "        saida = 'Q1'\n",
    "    case _ if x < 0 and y > 0:\n",
    "        saida = 'Q2'\n",
    "    case _ if x < 0 and y < 0:\n",
    "        saida = 'Q3'\n",
    "    case _ if x > 0 and y < 0:\n",
    "        saida = 'Q4'\n",
    "print(saida)"
   ]
  },
  {
   "cell_type": "markdown",
   "id": "49710f28-0737-44f4-8bdb-7e7489800ae9",
   "metadata": {},
   "source": [
    "# LISTA DE EXERCICÍOS 02"
   ]
  },
  {
   "cell_type": "code",
   "execution_count": null,
   "id": "a0a148df-2b78-4dde-b9bb-b843d479828e",
   "metadata": {},
   "outputs": [
    {
     "name": "stdout",
     "output_type": "stream",
     "text": [
      "Entre com um número:  2\n"
     ]
    },
    {
     "name": "stdout",
     "output_type": "stream",
     "text": [
      "Positivo\n"
     ]
    }
   ],
   "source": [
    "# ques01\n",
    "num = int(input('Entre com um número: '))\n",
    "saida = 'Positivo'\n",
    "if num < 0:\n",
    "    saida = 'Negativo'\n",
    "print(saida)"
   ]
  },
  {
   "cell_type": "code",
   "execution_count": null,
   "id": "af9d97ec-37a5-49ed-b7a2-84cda27ef130",
   "metadata": {},
   "outputs": [
    {
     "name": "stdout",
     "output_type": "stream",
     "text": [
      "Entre com um número:  4\n"
     ]
    },
    {
     "name": "stdout",
     "output_type": "stream",
     "text": [
      "Par\n"
     ]
    }
   ],
   "source": [
    "# ques02\n",
    "num = int(input('Entre com um número: '))\n",
    "saida = 'Par'\n",
    "if num % 2 != 0:\n",
    "    saida = 'Impar'\n",
    "print(saida)"
   ]
  },
  {
   "cell_type": "code",
   "execution_count": null,
   "id": "c9ac1dae-1559-4a7b-a889-00efc12d636c",
   "metadata": {},
   "outputs": [
    {
     "name": "stdout",
     "output_type": "stream",
     "text": [
      "Entre com um número:  2\n"
     ]
    },
    {
     "name": "stdout",
     "output_type": "stream",
     "text": [
      "Não é multplo de 3\n"
     ]
    }
   ],
   "source": [
    "# ques03\n",
    "num = int(input('Entre com um número: '))\n",
    "saida = 'Não é multplo de 3'\n",
    "if num % 3 == 0:\n",
    "    saida = 'È multiplo de 3'\n",
    "print(saida)"
   ]
  },
  {
   "cell_type": "code",
   "execution_count": null,
   "id": "ed9c0f9e-ea0f-4aa4-942f-424d058e4b96",
   "metadata": {},
   "outputs": [
    {
     "name": "stdout",
     "output_type": "stream",
     "text": [
      "Entre com um número:  3\n",
      "Entre com utro número:  4\n"
     ]
    },
    {
     "name": "stdout",
     "output_type": "stream",
     "text": [
      "4\n"
     ]
    }
   ],
   "source": [
    "# ques04\n",
    "num = int(input('Entre com um número: '))\n",
    "num2 = int(input('Entre com utro número: '))\n",
    "maior = num\n",
    "if num2 > maior:\n",
    "    maior = num2\n",
    "print(maior)"
   ]
  },
  {
   "cell_type": "code",
   "execution_count": null,
   "id": "26a7a23c-6f8c-4126-abec-a5b05a2e2783",
   "metadata": {},
   "outputs": [
    {
     "name": "stdout",
     "output_type": "stream",
     "text": [
      "Entre com um número:  1\n",
      "Entre com utro número:  2\n",
      "Entre com utro número:  1\n"
     ]
    },
    {
     "name": "stdout",
     "output_type": "stream",
     "text": [
      "2\n"
     ]
    }
   ],
   "source": [
    "# ques05\n",
    "num = int(input('Entre com um número: '))\n",
    "num2 = int(input('Entre com utro número: '))\n",
    "num3 = int(input('Entre com utro número: '))\n",
    "maior = num\n",
    "if num2 > maior:\n",
    "    maior = num2\n",
    "if num3 > maior:\n",
    "    maior = num3\n",
    "print(maior)"
   ]
  },
  {
   "cell_type": "code",
   "execution_count": null,
   "id": "2f88a595-68cf-46df-a735-bc0f218387a5",
   "metadata": {},
   "outputs": [
    {
     "name": "stdout",
     "output_type": "stream",
     "text": [
      "Entre com sua idade:  2\n"
     ]
    },
    {
     "name": "stdout",
     "output_type": "stream",
     "text": [
      "Menor de idade\n"
     ]
    }
   ],
   "source": [
    "# ques06\n",
    "idade = int(input('Entre com sua idade: '))\n",
    "saida = 'Menor de idade'\n",
    "if idade >= 18:\n",
    "    saida = 'Maior de idade'\n",
    "print(saida)"
   ]
  },
  {
   "cell_type": "code",
   "execution_count": null,
   "id": "719ced2b-70a6-437d-b8b7-ac216cf26abc",
   "metadata": {},
   "outputs": [
    {
     "name": "stdout",
     "output_type": "stream",
     "text": [
      "Entre com sua nota:  8\n"
     ]
    },
    {
     "name": "stdout",
     "output_type": "stream",
     "text": [
      "Aprovado\n"
     ]
    }
   ],
   "source": [
    "# ques07\n",
    "nota = float(input('Entre com sua nota: '))\n",
    "saida = 'Reprovado'\n",
    "if nota >= 7:\n",
    "    saida = 'Aprovado'\n",
    "print(saida)"
   ]
  },
  {
   "cell_type": "code",
   "execution_count": null,
   "id": "b4c73cd2-feb0-4835-8782-533ec789bfa2",
   "metadata": {},
   "outputs": [
    {
     "name": "stdout",
     "output_type": "stream",
     "text": [
      "Entre com uma letra A\n"
     ]
    },
    {
     "name": "stdout",
     "output_type": "stream",
     "text": [
      "Não é vogal\n"
     ]
    }
   ],
   "source": [
    "# ques08\n",
    "# letra = str(input('Entre com uma letra'))\n",
    "# saida = 'Não é vogal'\n",
    "# # print(letra.lower())\n",
    "# match letra.lower():\n",
    "#     case  _ if letra=='a' or letra=='e' or letra=='i' or letra=='u':\n",
    "#         saida = f'A letra ({letra}) é vogal'\n",
    "# print(saida)"
   ]
  },
  {
   "cell_type": "code",
   "execution_count": null,
   "id": "edc7db4e-72ad-4c70-998a-111a5afa3f9c",
   "metadata": {},
   "outputs": [
    {
     "name": "stdout",
     "output_type": "stream",
     "text": [
      "Entre com uma letra:  a\n"
     ]
    },
    {
     "name": "stdout",
     "output_type": "stream",
     "text": [
      "A letra ( a ) é vogal\n"
     ]
    }
   ],
   "source": [
    "# ques08\n",
    "letra = input('Entre com uma letra: ')\n",
    "# letra = input('Entre com uma letra: ').lower()\n",
    "saida = 'Não é vogal'\n",
    "\n",
    "match letra:\n",
    "    case _ if letra.lower() in 'aeiou':\n",
    "        saida = f'A letra ( {letra} ) é vogal'\n",
    "\n",
    "print(saida)"
   ]
  },
  {
   "cell_type": "code",
   "execution_count": null,
   "id": "0f36c5ed-0979-48d9-95b7-107adaab504b",
   "metadata": {},
   "outputs": [
    {
     "name": "stdout",
     "output_type": "stream",
     "text": [
      "Entre com um número que corresponde ao dia da semana:  3\n"
     ]
    },
    {
     "name": "stdout",
     "output_type": "stream",
     "text": [
      "Dia da semana:  Terça\n"
     ]
    }
   ],
   "source": [
    "# ques09\n",
    "dia = int(input('Entre com um número que corresponde ao dia da semana: '))\n",
    "saida = 'Domingo'\n",
    "match dia:\n",
    "    case _ if dia == 2:\n",
    "        saida = 'Segunda'\n",
    "    case _ if dia == 3:\n",
    "        saida = 'Terça'\n",
    "    case _ if dia == 4:\n",
    "        saida = 'Quarta'\n",
    "    case _ if dia == 5:\n",
    "        saida = 'Quinta'\n",
    "    case _ if dia == 6:\n",
    "        saida = 'Sexta'\n",
    "    case _ if dia == 7:\n",
    "        saida = 'Sábado'\n",
    "print('Dia da semana: ',saida)"
   ]
  },
  {
   "cell_type": "code",
   "execution_count": null,
   "id": "60a1c097-4bb5-45ea-982b-918ec7d7fdc6",
   "metadata": {},
   "outputs": [
    {
     "name": "stdout",
     "output_type": "stream",
     "text": [
      "Entre com um numero que corresponde a um mês:  2\n"
     ]
    },
    {
     "name": "stdout",
     "output_type": "stream",
     "text": [
      "Esse mês tem: 28 dias\n"
     ]
    }
   ],
   "source": [
    "# ques10\n",
    "num = int(input('Entre com um numero que corresponde a um mês: '))\n",
    "dias = [30,28,30,31,30,31,30,29,29,30,30,31]\n",
    "mes = num - 1\n",
    "print(f'Esse mês tem: {dias[mes]} dias')"
   ]
  },
  {
   "cell_type": "code",
   "execution_count": null,
   "id": "0022f00f-e6a4-4eed-a5f6-a8d9ca4de78c",
   "metadata": {},
   "outputs": [
    {
     "name": "stdout",
     "output_type": "stream",
     "text": [
      "Entre com um ano:  2000\n"
     ]
    },
    {
     "name": "stdout",
     "output_type": "stream",
     "text": [
      "Ano bisexto\n"
     ]
    }
   ],
   "source": [
    "# ques11\n",
    "ano = int(input('Entre com um ano: '))\n",
    "saida = 'Ano não é bisexto'\n",
    "if ano%4==0 and ano%100!=0 or ano%400 ==0:\n",
    "    saida = 'Ano bisexto'\n",
    "print(saida)"
   ]
  },
  {
   "cell_type": "code",
   "execution_count": null,
   "id": "c5524e07-ec04-4313-8087-aa12920fa589",
   "metadata": {},
   "outputs": [
    {
     "name": "stdout",
     "output_type": "stream",
     "text": [
      "Entre com seu salário:  10001\n"
     ]
    },
    {
     "name": "stdout",
     "output_type": "stream",
     "text": [
      "salário: 10001.0\n"
     ]
    }
   ],
   "source": [
    "# ques12\n",
    "salario = float(input('Entre com seu salário: '))\n",
    "saida = f'salário: {salario}'\n",
    "if salario < 1000:\n",
    "    salario = salario + ((salario * 10) / 100)\n",
    "    saida = f'salário com 10% de aumento: {salario}'    \n",
    "print(saida)"
   ]
  },
  {
   "cell_type": "code",
   "execution_count": null,
   "id": "fb261461-e336-4e8b-988b-c363b59d76de",
   "metadata": {},
   "outputs": [
    {
     "name": "stdout",
     "output_type": "stream",
     "text": [
      "Entre com um número:  10000\n"
     ]
    },
    {
     "name": "stdout",
     "output_type": "stream",
     "text": [
      "Não está dentro no intervalo de 1 á 100\n"
     ]
    }
   ],
   "source": [
    "# ques13\n",
    "num = int(input('Entre com um número: '))\n",
    "saida = f'Não está dentro no intervalo de 1 á 100'\n",
    "if num>0 and num<101:\n",
    "    saida = f'Está dentro no intervalo de 1 á 100'\n",
    "print(saida)    "
   ]
  },
  {
   "cell_type": "code",
   "execution_count": null,
   "id": "9b6771f8-74f4-4567-a062-9c0dfbdedcea",
   "metadata": {},
   "outputs": [
    {
     "name": "stdout",
     "output_type": "stream",
     "text": [
      "Entre com um número:  1\n",
      "Entre com utro número:  2\n"
     ]
    },
    {
     "name": "stdout",
     "output_type": "stream",
     "text": [
      "Números diferente\n"
     ]
    }
   ],
   "source": [
    "# ques14\n",
    "num = int(input('Entre com um número: '))\n",
    "num2 = int(input('Entre com utro número: '))\n",
    "saida = 'Números iguais'\n",
    "if num != num2:\n",
    "    saida = 'Números diferente'\n",
    "print(saida)"
   ]
  },
  {
   "cell_type": "code",
   "execution_count": null,
   "id": "c458c9f7-6443-4cdb-9d2d-b6c0c00c7fd2",
   "metadata": {},
   "outputs": [
    {
     "name": "stdout",
     "output_type": "stream",
     "text": [
      "Celcius:  45\n"
     ]
    },
    {
     "name": "stdout",
     "output_type": "stream",
     "text": [
      "Quente\n"
     ]
    }
   ],
   "source": [
    "# ques15\n",
    "c = float(input('Celcius: '))\n",
    "f = c\n",
    "saida = 'Frio'\n",
    "match f:\n",
    "    case _ if f > 14 and f <26:\n",
    "        saida = 'Moderado'\n",
    "    case _ if f > 25:\n",
    "        saida = 'Quente'\n",
    "print(saida)"
   ]
  },
  {
   "cell_type": "code",
   "execution_count": null,
   "id": "c395e923-d2f7-49dc-ae14-1ee6a441a5f9",
   "metadata": {},
   "outputs": [
    {
     "name": "stdout",
     "output_type": "stream",
     "text": [
      "Entre com sua altura:  1.80\n"
     ]
    },
    {
     "name": "stdout",
     "output_type": "stream",
     "text": [
      "Você é :  Alto\n"
     ]
    }
   ],
   "source": [
    "# ques16\n",
    "altura = float(input('Entre com sua altura: '))\n",
    "saida = 'Alto'\n",
    "if altura < 1.80:\n",
    "    saida = 'Baixo'\n",
    "print('Você é : ',saida)"
   ]
  },
  {
   "cell_type": "code",
   "execution_count": null,
   "id": "a2371ddf-4a63-4f6f-bb5e-a377aa2c7353",
   "metadata": {},
   "outputs": [
    {
     "name": "stdout",
     "output_type": "stream",
     "text": [
      "Informe seu genêro (m/f):  g\n"
     ]
    },
    {
     "name": "stdout",
     "output_type": "stream",
     "text": [
      "Genêro:  Opção inválida\n"
     ]
    }
   ],
   "source": [
    "# ques17\n",
    "sexo = str(input('Informe seu genêro (m/f): '))\n",
    "saida = ''\n",
    "match sexo:\n",
    "    case _ if sexo.lower() == 'm':\n",
    "        saida = 'Masculino'\n",
    "    case _ if sexo.lower() == 'f':\n",
    "        saida = 'Feminino'\n",
    "    case _:\n",
    "        saida = 'Opção inválida'\n",
    "print('Genêro: ',saida)"
   ]
  },
  {
   "cell_type": "code",
   "execution_count": null,
   "id": "d83f80fb-aab0-4959-8fbb-fe83c50fbbc3",
   "metadata": {},
   "outputs": [
    {
     "name": "stdout",
     "output_type": "stream",
     "text": [
      "1. Cadastrar\n",
      "2. Consultar\n",
      "3. Atualizar\n",
      "4. Excluir\n"
     ]
    },
    {
     "name": "stdout",
     "output_type": "stream",
     "text": [
      "--:  1\n"
     ]
    },
    {
     "name": "stdout",
     "output_type": "stream",
     "text": [
      "Iniciando o cadastro\n"
     ]
    }
   ],
   "source": [
    "print('1. Cadastrar\\n2. Consultar\\n3. Atualizar\\n4. Excluir')\n",
    "opcao = int(input('--: '))\n",
    "saida = ''\n",
    "match opcao: \n",
    "    case _ if opcao == 1:\n",
    "        saida = 'Iniciando o cadastro'\n",
    "    case _ if opcao == 2:\n",
    "        saida = 'Iniciando a exclusão'\n",
    "    case _ if opcao == 3:\n",
    "        saida = 'Iniciando a atualização'\n",
    "    case _ if opcao == 4:\n",
    "        saida = 'Iniciando a exclusão'\n",
    "print(saida)"
   ]
  },
  {
   "cell_type": "code",
   "execution_count": null,
   "id": "829cfb1c-8ab7-4e16-bc8c-425acf135de2",
   "metadata": {},
   "outputs": [
    {
     "name": "stdout",
     "output_type": "stream",
     "text": [
      "Entre com a pontuação:  50\n"
     ]
    },
    {
     "name": "stdout",
     "output_type": "stream",
     "text": [
      "Regular\n"
     ]
    }
   ],
   "source": [
    "num = int(input('Entre com a pontuação: '))\n",
    "saida = 'Ruim'\n",
    "match num: \n",
    "    case _ if num > 49 and num <71:\n",
    "        saida = 'Regular'\n",
    "    case _ if num >70 and num <91:\n",
    "        saida = 'Bom'\n",
    "    case _ if num > 90:\n",
    "        saida = 'Excelente'\n",
    "print(saida)"
   ]
  },
  {
   "cell_type": "code",
   "execution_count": 1,
   "id": "7ab17790-b5a8-477d-88b5-90acc2e5a1cd",
   "metadata": {},
   "outputs": [
    {
     "name": "stdout",
     "output_type": "stream",
     "text": [
      "É multiplo de 5\n"
     ]
    }
   ],
   "source": [
    "num = int(input('Entre com um número: '))\n",
    "saida = 'Não é multiplo'\n",
    "if num%5==0:\n",
    "    saida = 'É multiplo de 5'\n",
    "print(saida)"
   ]
  }
 ],
 "metadata": {
  "kernelspec": {
   "display_name": "base",
   "language": "python",
   "name": "python3"
  },
  "language_info": {
   "codemirror_mode": {
    "name": "ipython",
    "version": 3
   },
   "file_extension": ".py",
   "mimetype": "text/x-python",
   "name": "python",
   "nbconvert_exporter": "python",
   "pygments_lexer": "ipython3",
   "version": "3.12.7"
  }
 },
 "nbformat": 4,
 "nbformat_minor": 5
}
