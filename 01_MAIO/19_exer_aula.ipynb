{
 "cells": [
  {
   "cell_type": "code",
   "execution_count": 1,
   "id": "072c342f",
   "metadata": {},
   "outputs": [],
   "source": [
    "produtos = ['coca','pepsi','guarana','fanta','dolly']\n",
    "producao = [15000,12000,13000,500,5000]"
   ]
  },
  {
   "cell_type": "code",
   "execution_count": 3,
   "id": "f5fc180a",
   "metadata": {},
   "outputs": [
    {
     "name": "stdout",
     "output_type": "stream",
     "text": [
      "coca 15000\n",
      "pepsi 12000\n",
      "guarana 13000\n",
      "dolly 5000\n"
     ]
    }
   ],
   "source": [
    "for a in range(len(produtos)):\n",
    "    if producao[a] >= 1000:\n",
    "        print(produtos[a],producao[a])"
   ]
  },
  {
   "cell_type": "markdown",
   "id": "5752e565",
   "metadata": {},
   "source": [
    "# Desafio"
   ]
  },
  {
   "cell_type": "code",
   "execution_count": 40,
   "id": "015ea43d",
   "metadata": {},
   "outputs": [],
   "source": [
    "# DESAFIO 01\n",
    "registro = []\n",
    "qtd_pessoas = int(input('Quantas pessoas ocuparão o quarto? '))\n",
    "for a in range(qtd_pessoas):\n",
    "    nome = str(input(f'Entre com o nome da {a+1}º pessoa: '))\n",
    "    cpf = str(input(f'Entre com o CPF da {a+1}º pessoa: '))\n",
    "    registro.append([nome,cpf])\n"
   ]
  },
  {
   "cell_type": "code",
   "execution_count": null,
   "id": "a8e7d9ad",
   "metadata": {},
   "outputs": [
    {
     "name": "stdout",
     "output_type": "stream",
     "text": [
      "['João', '34']\n",
      "['Julia', '12']\n",
      "['Ray', '23']\n"
     ]
    }
   ],
   "source": [
    "for a in registro:\n",
    "    print(a)"
   ]
  },
  {
   "cell_type": "code",
   "execution_count": 49,
   "id": "d206451e",
   "metadata": {},
   "outputs": [
    {
     "name": "stdout",
     "output_type": "stream",
     "text": [
      "15000\n"
     ]
    }
   ],
   "source": [
    "# DESAFIO 02\n",
    "meta = 10000\n",
    "vendas = [\n",
    "    ['João', 15000],\n",
    "    ['Julia', 27000],\n",
    "    ['Marcus', 9900],\n",
    "    ['Maria', 3750],\n",
    "    ['Ana', 10300],\n",
    "    ['Alon', 7870],\n",
    "]\n",
    "print(vendas[0][1])"
   ]
  },
  {
   "cell_type": "code",
   "execution_count": 50,
   "id": "beb2c864",
   "metadata": {},
   "outputs": [
    {
     "name": "stdout",
     "output_type": "stream",
     "text": [
      "['João', 15000]\n",
      "['Julia', 27000]\n",
      "['Ana', 10300]\n"
     ]
    }
   ],
   "source": [
    "for a in range(len(vendas)):\n",
    "    if vendas[a][1] >= meta:\n",
    "        print(vendas[a])"
   ]
  },
  {
   "cell_type": "code",
   "execution_count": 58,
   "id": "0072fcf9",
   "metadata": {},
   "outputs": [
    {
     "name": "stdout",
     "output_type": "stream",
     "text": [
      "Produto: iphone, Venda-2019: 558147, Valor-2020: 951642, Percentual-aumento: 58.65%\n",
      "Produto: tv, Venda-2019: 405252, Valor-2020: 787604, Percentual-aumento: 51.45%\n",
      "Produto: máquina de café, Venda-2019: 718654, Valor-2020: 867660, Percentual-aumento: 82.83%\n",
      "Produto: notebook dell, Venda-2019: 422760, Valor-2020: 694913, Percentual-aumento: 60.84%\n",
      "Produto: notebook hp, Venda-2019: 154753, Valor-2020: 539704, Percentual-aumento: 28.67%\n",
      "Produto: microsoft surface, Venda-2019: 438508, Valor-2020: 667179, Percentual-aumento: 65.73%\n",
      "Produto: webcam, Venda-2019: 237467, Valor-2020: 295633, Percentual-aumento: 80.32%\n",
      "Produto: caixa de som, Venda-2019: 489705, Valor-2020: 725316, Percentual-aumento: 67.52%\n",
      "Produto: microfone, Venda-2019: 328311, Valor-2020: 644622, Percentual-aumento: 50.93%\n",
      "Produto: câmera canon, Venda-2019: 591120, Valor-2020: 994303, Percentual-aumento: 59.45%\n"
     ]
    }
   ],
   "source": [
    "# DESAFIO03\n",
    "produtos = ['iphone', 'galaxy', 'ipad', 'tv', 'máquina de café', 'kindle', 'geladeira', 'adega', 'notebook dell', 'notebook hp', 'notebook asus', 'microsoft surface', 'webcam', 'caixa de som', 'microfone', 'câmera canon']\n",
    "vendas2019 = [558147,712350,573823,405252,718654,531580,973139,892292,422760,154753,887061,438508,237467,489705,328311,591120]\n",
    "vendas2020 = [951642,244295,26964,787604,867660,78830,710331,646016,694913,539704,324831,667179,295633,725316,644622,994303]\n",
    "for p, v19, v20 in zip(produtos, vendas2019, vendas2020):\n",
    "    if v20 > v19:\n",
    "        print(f'Produto: {p}, Venda-2019: {v19}, Valor-2020: {v20}, Percentual-aumento: {((100*v19)/v20):.2f}%')"
   ]
  },
  {
   "cell_type": "markdown",
   "id": "3c3f29d4",
   "metadata": {},
   "source": [
    "# Outra lista de exercicíos: for"
   ]
  },
  {
   "cell_type": "code",
   "execution_count": 59,
   "id": "b0babb38",
   "metadata": {},
   "outputs": [
    {
     "name": "stdout",
     "output_type": "stream",
     "text": [
      "['arroz', 'feijão', 'macarrão', 'azeite', 'farinha', 'açúcar']\n"
     ]
    }
   ],
   "source": [
    "# ques01\n",
    "lista_compras = ['arroz', 'feijão', 'macarrão', 'azeite', 'farinha', 'açúcar']\n",
    "print(lista_compras)"
   ]
  },
  {
   "cell_type": "code",
   "execution_count": 61,
   "id": "2a95c7a5",
   "metadata": {},
   "outputs": [
    {
     "name": "stdout",
     "output_type": "stream",
     "text": [
      "150\n"
     ]
    }
   ],
   "source": [
    "# ques02\n",
    "numeros = [10, 20, 30, 40, 50]\n",
    "print(sum(numeros))"
   ]
  },
  {
   "cell_type": "code",
   "execution_count": 64,
   "id": "38847781",
   "metadata": {},
   "outputs": [
    {
     "name": "stdout",
     "output_type": "stream",
     "text": [
      ": 4 números impares\n"
     ]
    }
   ],
   "source": [
    "# ques03\n",
    "numeros = [1, 4, 7, 10, 13, 16, 19, 22]\n",
    "cont = 0\n",
    "for num in numeros:\n",
    "    if num%2!=0:\n",
    "        cont += 1\n",
    "print(f': {cont} números impares')"
   ]
  },
  {
   "cell_type": "code",
   "execution_count": null,
   "id": "d4845cbd",
   "metadata": {},
   "outputs": [],
   "source": []
  },
  {
   "cell_type": "code",
   "execution_count": 68,
   "id": "f992cb64",
   "metadata": {},
   "outputs": [
    {
     "name": "stdout",
     "output_type": "stream",
     "text": [
      "Multilplos de 5: 5, 10, 20, 25, 30, 40, 45, "
     ]
    }
   ],
   "source": [
    "# ques04\n",
    "numeros = [5, 10, 13, 20, 25, 28, 30, 33, 40, 45]\n",
    "print('Multilplos de 5: ',end='')\n",
    "for num in numeros:\n",
    "    if num%5==0:\n",
    "        print(num,end=', ')"
   ]
  },
  {
   "cell_type": "code",
   "execution_count": 69,
   "id": "6bbb5c4e",
   "metadata": {},
   "outputs": [
    {
     "name": "stdout",
     "output_type": "stream",
     "text": [
      "[2, 4, 6, 8, 10]\n"
     ]
    }
   ],
   "source": [
    "# ques05\n",
    "numeros = [1, 2, 3, 4, 5]\n",
    "nova_lista = []\n",
    "for num in numeros:\n",
    "    nova_lista.append(num * 2)\n",
    "print(nova_lista)"
   ]
  },
  {
   "cell_type": "code",
   "execution_count": 79,
   "id": "a8eb40ae",
   "metadata": {},
   "outputs": [
    {
     "name": "stdout",
     "output_type": "stream",
     "text": [
      "['joão', 'maria', 'ana', 'carlos']\n",
      "['JOÃO', 'MARIA', 'ANA', 'CARLOS']\n"
     ]
    }
   ],
   "source": [
    "# ques06\n",
    "nomes = ['joão', 'maria', 'ana', 'carlos']\n",
    "print(nomes)\n",
    "nome_maiuscula = [nome.upper() for nome in nomes]\n",
    "print(nome_maiuscula)"
   ]
  },
  {
   "cell_type": "code",
   "execution_count": 83,
   "id": "79e38257",
   "metadata": {},
   "outputs": [
    {
     "name": "stdout",
     "output_type": "stream",
     "text": [
      "['   ', ' código  ', '  lista', ' estrutura ']\n",
      "['', 'código', 'lista', 'estrutura']\n"
     ]
    }
   ],
   "source": [
    "# ques07\n",
    "palavras = ['   ', ' código  ', '  lista', ' estrutura ']\n",
    "print(palavras)\n",
    "palavra_espaco = [palavra.strip() for palavra in palavras]\n",
    "print(palavra_espaco)"
   ]
  },
  {
   "cell_type": "code",
   "execution_count": null,
   "id": "cf40959f",
   "metadata": {},
   "outputs": [
    {
     "name": "stdout",
     "output_type": "stream",
     "text": [
      "banana\n",
      "abacaxi\n",
      "uva\n",
      "amora\n",
      "laranja\n",
      "acerola\n"
     ]
    }
   ],
   "source": [
    "# ques08\n",
    "palavras = ['banana', 'abacaxi', 'uva', 'amora', 'laranja', 'acerola']\n",
    "for p in palavras:\n",
    "    if p.startswith('a'):\n",
    "        print(p)"
   ]
  },
  {
   "cell_type": "code",
   "execution_count": 86,
   "id": "fbfa1936",
   "metadata": {},
   "outputs": [
    {
     "name": "stdout",
     "output_type": "stream",
     "text": [
      "[30.2, 40.2, 50.2, 60.2, 70.2, 80.2]\n"
     ]
    }
   ],
   "source": [
    "# ques09\n",
    "celsius = [0, 10, 20, 30, 40, 50]\n",
    "f = []\n",
    "for c in celsius:\n",
    "    f.append((c-1.8)+32)\n",
    "print(f)"
   ]
  },
  {
   "cell_type": "code",
   "execution_count": 90,
   "id": "cf9c09a6",
   "metadata": {},
   "outputs": [
    {
     "name": "stdout",
     "output_type": "stream",
     "text": [
      "Notas acima da média: \n",
      "[7.5, 8.0, 6.0, 9.0, 10.0]\n"
     ]
    }
   ],
   "source": [
    "# ques10\n",
    "notas = [5.0, 7.5, 8.0, 6.0, 9.0, 10.0, 4.5, 3.0]\n",
    "print('Notas acima da média: ')\n",
    "nt = [nota for nota in notas if nota >= 6]\n",
    "print(nt)"
   ]
  },
  {
   "cell_type": "code",
   "execution_count": 92,
   "id": "478d67d0",
   "metadata": {},
   "outputs": [
    {
     "name": "stdout",
     "output_type": "stream",
     "text": [
      "Aluno: Bruno, Nota: 8.0\n",
      "Aluno: Carlos, Nota: 7.2\n",
      "Aluno: Eduardo, Nota: 9.1\n"
     ]
    }
   ],
   "source": [
    "# ques11\n",
    "alunos = ['Ana', 'Bruno', 'Carlos', 'Diana', 'Eduardo']\n",
    "notas = [6.5, 8.0, 7.2, 5.5, 9.1]\n",
    "for a, n in zip(alunos, notas):\n",
    "    if n >= 7:\n",
    "        print(f'Aluno: {a}, Nota: {n}')"
   ]
  },
  {
   "cell_type": "code",
   "execution_count": 93,
   "id": "d553968a",
   "metadata": {},
   "outputs": [
    {
     "name": "stdout",
     "output_type": "stream",
     "text": [
      "Produto: Sabão, Preço: 3.5\n",
      "Produto: Detergente, Preço: 2.0\n",
      "Produto: Escova, Preço: 8.0\n"
     ]
    }
   ],
   "source": [
    "# ques12\n",
    "produtos = ['Sabão', 'Detergente', 'Shampoo', 'Condicionador', 'Escova']\n",
    "precos = [3.5, 2.0, 15.0, 18.5, 8.0]\n",
    "for p1, p2 in zip(produtos, precos):\n",
    "    if p2 < 10:\n",
    "        print(f'Produto: {p1}, Preço: {p2}')\n"
   ]
  },
  {
   "cell_type": "code",
   "execution_count": 94,
   "id": "76e14bf9",
   "metadata": {},
   "outputs": [
    {
     "name": "stdout",
     "output_type": "stream",
     "text": [
      "Nome: Mariana, Salário: 3500\n",
      "Nome: Beatriz, Salário: 4200\n",
      "Nome: Lucas, Salário: 3100\n"
     ]
    }
   ],
   "source": [
    "# ques13\n",
    "\n",
    "funcionarios = ['João', 'Mariana', 'Carlos', 'Beatriz', 'Lucas']\n",
    "salarios = [2800, 3500, 2700, 4200, 3100]\n",
    "for f, s in zip(funcionarios, salarios):\n",
    "    if s > 3000:\n",
    "        print(f'Nome: {f}, Salário: {s}')"
   ]
  },
  {
   "cell_type": "code",
   "execution_count": 95,
   "id": "34b33a79",
   "metadata": {},
   "outputs": [
    {
     "name": "stdout",
     "output_type": "stream",
     "text": [
      "Nome: Fernanda, Nota: 4.0\n",
      "Nome: Luana, Nota: 3.8\n"
     ]
    }
   ],
   "source": [
    "# ques14\n",
    "alunos = ['Fernanda', 'Pedro', 'Luana', 'André', 'Gabriela']\n",
    "notas = [4.0, 6.5, 3.8, 7.2, 5.0]\n",
    "for a, n in zip(alunos, notas):\n",
    "    if n < 5:\n",
    "        print(f'Nome: {a}, Nota: {n}')"
   ]
  },
  {
   "cell_type": "code",
   "execution_count": 1,
   "id": "e5882d27",
   "metadata": {},
   "outputs": [
    {
     "name": "stdout",
     "output_type": "stream",
     "text": [
      "Júlia 52\n",
      "Carla 60\n"
     ]
    }
   ],
   "source": [
    "# ques15\n",
    "\n",
    "clientes = ['Roberto', 'Júlia', 'Ricardo', 'Carla', 'Sérgio']\n",
    "idades = [45, 52, 37, 60, 49]\n",
    "for c, i in zip(clientes,idades):\n",
    "    if i > 50:\n",
    "        print(c, i)"
   ]
  },
  {
   "cell_type": "code",
   "execution_count": 5,
   "id": "d3ed75c5",
   "metadata": {},
   "outputs": [
    {
     "name": "stdout",
     "output_type": "stream",
     "text": [
      "Produtos abaixo do nível critico\n",
      "Macarrão 30\n",
      "Óleo 10\n"
     ]
    }
   ],
   "source": [
    "# ques16\n",
    "\n",
    "produtos = ['Arroz', 'Feijão', 'Macarrão', 'Óleo', 'Açúcar']\n",
    "estoque = [50, 200, 30, 10, 90]\n",
    "nivel_critico = 40\n",
    "print('Produtos abaixo do nível critico')\n",
    "for p, e in zip(produtos, estoque ):\n",
    "    if e < nivel_critico:\n",
    "        print(p, e)"
   ]
  },
  {
   "cell_type": "code",
   "execution_count": 7,
   "id": "d0862794",
   "metadata": {},
   "outputs": [
    {
     "name": "stdout",
     "output_type": "stream",
     "text": [
      "Caderno 25.0\n",
      "Estojo 20.0\n"
     ]
    }
   ],
   "source": [
    "# ques17\n",
    "\n",
    "produtos = ['Caderno', 'Caneta', 'Lápis', 'Borracha', 'Estojo']\n",
    "precos = [25.0, 2.5, 1.0, 3.0, 20.0]\n",
    "limite = 10.0\n",
    "for p, pre in zip(produtos, precos):\n",
    "    if pre > limite:\n",
    "        print(p, pre)"
   ]
  },
  {
   "cell_type": "code",
   "execution_count": 8,
   "id": "24bcb836",
   "metadata": {},
   "outputs": [
    {
     "name": "stdout",
     "output_type": "stream",
     "text": [
      "Bruno 10.0\n",
      "Daniel 10.0\n"
     ]
    }
   ],
   "source": [
    "# ques18\n",
    "alunos = ['Alice', 'Bruno', 'Clara', 'Daniel']\n",
    "notas = [9.8, 10.0, 7.5, 10.0]\n",
    "for a, n in zip(alunos, notas):\n",
    "    if n == 10:\n",
    "        print(a,n)"
   ]
  },
  {
   "cell_type": "code",
   "execution_count": 9,
   "id": "f34d8745",
   "metadata": {},
   "outputs": [
    {
     "name": "stdout",
     "output_type": "stream",
     "text": [
      "José -500\n",
      "Carlos -150\n"
     ]
    }
   ],
   "source": [
    "# ques19\n",
    "clientes = ['Maria', 'José', 'Paula', 'Carlos']\n",
    "saldos = [1200, -500, 300, -150]\n",
    "for c, s in zip(clientes, saldos):\n",
    "    if s < 0:\n",
    "        print(c,s)"
   ]
  },
  {
   "cell_type": "code",
   "execution_count": 10,
   "id": "5290ef69",
   "metadata": {},
   "outputs": [
    {
     "name": "stdout",
     "output_type": "stream",
     "text": [
      "Gabriel 15\n",
      "Mariana 17\n",
      "Sofia 14\n"
     ]
    }
   ],
   "source": [
    "# ques20\n",
    "\n",
    "alunos = ['Gabriel', 'Mariana', 'Sofia']\n",
    "idades = [15, 17, 14]\n",
    "for a, i in zip(alunos, idades):\n",
    "    print(a,i)"
   ]
  }
 ],
 "metadata": {
  "kernelspec": {
   "display_name": "base",
   "language": "python",
   "name": "python3"
  },
  "language_info": {
   "codemirror_mode": {
    "name": "ipython",
    "version": 3
   },
   "file_extension": ".py",
   "mimetype": "text/x-python",
   "name": "python",
   "nbconvert_exporter": "python",
   "pygments_lexer": "ipython3",
   "version": "3.12.7"
  }
 },
 "nbformat": 4,
 "nbformat_minor": 5
}
