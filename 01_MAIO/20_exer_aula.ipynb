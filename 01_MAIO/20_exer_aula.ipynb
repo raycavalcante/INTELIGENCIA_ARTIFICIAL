{
 "cells": [
  {
   "cell_type": "markdown",
   "id": "2cdd68f2",
   "metadata": {},
   "source": [
    "# lista de exercicíos"
   ]
  },
  {
   "cell_type": "code",
   "execution_count": 2,
   "id": "aaf4dfb9",
   "metadata": {},
   "outputs": [
    {
     "name": "stdout",
     "output_type": "stream",
     "text": [
      "[4, 7, 2, 9, 5, 10]\n"
     ]
    }
   ],
   "source": [
    "# ques01\n",
    "numeros = [4, 7, 2, 9, 5]\n",
    "numeros.append(10)\n",
    "print(numeros)"
   ]
  },
  {
   "cell_type": "code",
   "execution_count": 9,
   "id": "c00894c3",
   "metadata": {},
   "outputs": [
    {
     "name": "stdout",
     "output_type": "stream",
     "text": [
      "['maçã', 'banana', 'uva']\n"
     ]
    }
   ],
   "source": [
    "# ques02\n",
    "frutas = []\n",
    "# frutas.append(['maçã','banana','uva'])\n",
    "frutas.append('maçã')\n",
    "frutas.append('banana')\n",
    "frutas.append('uva')\n",
    "print(frutas)"
   ]
  },
  {
   "cell_type": "code",
   "execution_count": 11,
   "id": "32cccb33",
   "metadata": {},
   "outputs": [
    {
     "name": "stdout",
     "output_type": "stream",
     "text": [
      "[10, 20, 30]\n",
      "[10, 15, 20, 30]\n"
     ]
    }
   ],
   "source": [
    "# ques03\n",
    "numeros = [10, 20, 30]\n",
    "print(numeros)\n",
    "numeros.insert(1, 15)\n",
    "print(numeros)"
   ]
  },
  {
   "cell_type": "code",
   "execution_count": 12,
   "id": "6f5b75c8",
   "metadata": {},
   "outputs": [
    {
     "name": "stdout",
     "output_type": "stream",
     "text": [
      "['Ana', 'Beatriz', 'Daniel']\n"
     ]
    }
   ],
   "source": [
    "# ques04\n",
    "nomes = [\"Ana\", \"Carlos\", \"Beatriz\", \"Daniel\"]\n",
    "nomes.remove('Carlos')\n",
    "print(nomes)"
   ]
  },
  {
   "cell_type": "code",
   "execution_count": 14,
   "id": "e8152085",
   "metadata": {},
   "outputs": [
    {
     "name": "stdout",
     "output_type": "stream",
     "text": [
      "['azul', 'verde', 'amarelo', 'vermelho']\n",
      "['azul', 'verde', 'amarelo']\n"
     ]
    }
   ],
   "source": [
    "# ques05\n",
    "cores = [\"azul\", \"verde\", \"amarelo\", \"vermelho\"]\n",
    "print(cores)\n",
    "cores.pop()\n",
    "print(cores)"
   ]
  },
  {
   "cell_type": "code",
   "execution_count": 15,
   "id": "f407bf38",
   "metadata": {},
   "outputs": [
    {
     "name": "stdout",
     "output_type": "stream",
     "text": [
      "[1, 2, 3, 5, 8, 9]\n"
     ]
    }
   ],
   "source": [
    "# ques06\n",
    "valores = [9, 2, 5, 8, 1, 3]\n",
    "valores.sort()\n",
    "print(valores)"
   ]
  },
  {
   "cell_type": "code",
   "execution_count": 17,
   "id": "a859b648",
   "metadata": {},
   "outputs": [
    {
     "name": "stdout",
     "output_type": "stream",
     "text": [
      "[9, 8, 5, 3, 2, 1]\n"
     ]
    }
   ],
   "source": [
    "# ques07\n",
    "valores = [9, 2, 5, 8, 1, 3]\n",
    "valores.sort(reverse=True)\n",
    "print(valores)"
   ]
  },
  {
   "cell_type": "code",
   "execution_count": 19,
   "id": "76459ce4",
   "metadata": {},
   "outputs": [
    {
     "name": "stdout",
     "output_type": "stream",
     "text": [
      "Posicão do 8: 1\n"
     ]
    }
   ],
   "source": [
    "# ques08\n",
    "numeros = [4, 8, 2, 8, 6, 8]\n",
    "posicao_8 = numeros.index(8)\n",
    "print(f'Posicão do 8: {posicao_8}')"
   ]
  },
  {
   "cell_type": "code",
   "execution_count": 20,
   "id": "c3971301",
   "metadata": {},
   "outputs": [
    {
     "name": "stdout",
     "output_type": "stream",
     "text": [
      "A letra a aparece: 3 vezes\n"
     ]
    }
   ],
   "source": [
    "# ques09\n",
    "letras = ['a', 'b', 'c', 'a', 'd', 'a']\n",
    "print(f'A letra a aparece: {letras.count('a')} vezes')"
   ]
  },
  {
   "cell_type": "code",
   "execution_count": 21,
   "id": "ba45e9c4",
   "metadata": {},
   "outputs": [
    {
     "name": "stdout",
     "output_type": "stream",
     "text": [
      "[12, 34, 56, 78]\n",
      "[]\n"
     ]
    }
   ],
   "source": [
    "# ques10\n",
    "dados = [12, 34, 56, 78]\n",
    "print(dados)\n",
    "dados.clear()\n",
    "print(dados)"
   ]
  },
  {
   "cell_type": "code",
   "execution_count": 22,
   "id": "404391f1",
   "metadata": {},
   "outputs": [
    {
     "name": "stdout",
     "output_type": "stream",
     "text": [
      "[1, 2, 3, 4, 5]\n",
      "[1, 2, 3, 4, 5]\n"
     ]
    }
   ],
   "source": [
    "# ques11\n",
    "lista_original = [1, 2, 3, 4, 5]\n",
    "print(lista_original)\n",
    "lista_copia = lista_original.copy()\n",
    "print(lista_copia)\n"
   ]
  },
  {
   "cell_type": "code",
   "execution_count": 25,
   "id": "20b3aa09",
   "metadata": {},
   "outputs": [
    {
     "name": "stdout",
     "output_type": "stream",
     "text": [
      "[3, 7, 3, 8, 3, 5, 3]\n",
      "[7, 8, 5]\n"
     ]
    }
   ],
   "source": [
    "# ques12\n",
    "valores = [3, 7, 3, 8, 3, 5, 3]\n",
    "print(valores)\n",
    "valores = [v for v in valores if v != 3]\n",
    "print(valores)"
   ]
  },
  {
   "cell_type": "code",
   "execution_count": 28,
   "id": "ea555098",
   "metadata": {},
   "outputs": [
    {
     "name": "stdout",
     "output_type": "stream",
     "text": [
      "10\n",
      "5\n"
     ]
    }
   ],
   "source": [
    "# ques13\n",
    "notas = [7, 5, 9, 10, 6, 8]\n",
    "print(max(notas))\n",
    "print(min(notas))"
   ]
  },
  {
   "cell_type": "code",
   "execution_count": 30,
   "id": "be20d95f",
   "metadata": {},
   "outputs": [
    {
     "name": "stdout",
     "output_type": "stream",
     "text": [
      "67.3\n"
     ]
    }
   ],
   "source": [
    "# ques14\n",
    "precos = [15.5, 22.3, 10.8, 18.7]\n",
    "print(sum(precos))"
   ]
  },
  {
   "cell_type": "code",
   "execution_count": 31,
   "id": "4377790f",
   "metadata": {},
   "outputs": [
    {
     "name": "stdout",
     "output_type": "stream",
     "text": [
      "[1, 2, 3, 4, 5, 6]\n"
     ]
    }
   ],
   "source": [
    "# ques15\n",
    "a = [1, 2, 3] \n",
    "b = [4, 5, 6]\n",
    "\n",
    "a.extend(b)\n",
    "print(a)\n"
   ]
  },
  {
   "cell_type": "code",
   "execution_count": 32,
   "id": "90c27a7d",
   "metadata": {},
   "outputs": [
    {
     "name": "stdout",
     "output_type": "stream",
     "text": [
      "['sexta', 'quinta', 'quarta', 'terça', 'segunda']\n"
     ]
    }
   ],
   "source": [
    "# ques16\n",
    "dias = [\"segunda\", \"terça\", \"quarta\", \"quinta\", \"sexta\"]\n",
    "dias.reverse()\n",
    "print(dias)"
   ]
  },
  {
   "cell_type": "code",
   "execution_count": 34,
   "id": "06e8a980",
   "metadata": {},
   "outputs": [
    {
     "name": "stdout",
     "output_type": "stream",
     "text": [
      "[1, 3, 5, 7, 9]\n"
     ]
    }
   ],
   "source": [
    "# ques17\n",
    "numeros = [1, 2, 3, 4, 5, 6, 7, 8, 9, 10]\n",
    "precos = [p for p in numeros if p%2!=0]\n",
    "print(precos)"
   ]
  },
  {
   "cell_type": "code",
   "execution_count": 35,
   "id": "bb354c98",
   "metadata": {},
   "outputs": [
    {
     "name": "stdout",
     "output_type": "stream",
     "text": [
      "[15, 20, 25, 30, 35]\n",
      "[15, 20, 27, 30, 35]\n"
     ]
    }
   ],
   "source": [
    "# ques18\n",
    "idades = [15, 20, 25, 30, 35]\n",
    "print(idades)\n",
    "idades[2] = 27\n",
    "print(idades)\n"
   ]
  },
  {
   "cell_type": "code",
   "execution_count": 36,
   "id": "b5d5d330",
   "metadata": {},
   "outputs": [
    {
     "name": "stdout",
     "output_type": "stream",
     "text": [
      "False\n"
     ]
    }
   ],
   "source": [
    "# ques19\n",
    "alunos = [\"João\", \"Maria\", \"Pedro\", \"Ana\"]\n",
    "print('Carlos' in alunos)"
   ]
  },
  {
   "cell_type": "code",
   "execution_count": 37,
   "id": "b89dfbd6",
   "metadata": {},
   "outputs": [
    {
     "name": "stdout",
     "output_type": "stream",
     "text": [
      "0\n"
     ]
    }
   ],
   "source": [
    "# ques20\n",
    "itens = []\n",
    "print(len(itens))"
   ]
  },
  {
   "cell_type": "code",
   "execution_count": 40,
   "id": "6baf53ff",
   "metadata": {},
   "outputs": [
    {
     "name": "stdout",
     "output_type": "stream",
     "text": [
      "['Python', 'Java', 'C', 'Ruby', 'JavaScript']\n",
      "['Python', 'JavaScript']\n"
     ]
    }
   ],
   "source": [
    "# ques21\n",
    "palavras = [\"Python\", \"Java\", \"C\", \"Ruby\", \"JavaScript\"]\n",
    "print(palavras)\n",
    "nova_lista = [p for p in palavras if len(p) > 5]\n",
    "print(nova_lista)\n"
   ]
  },
  {
   "cell_type": "code",
   "execution_count": 44,
   "id": "840d5a13",
   "metadata": {},
   "outputs": [
    {
     "name": "stdout",
     "output_type": "stream",
     "text": [
      "[4, 8, 12, 16, 20]\n"
     ]
    }
   ],
   "source": [
    "# ques22\n",
    "numeros = [2, 4, 6, 8, 10]\n",
    "numeros_2 = []\n",
    "for n in numeros:\n",
    "    numeros_2.append(n*2)\n",
    "print(numeros_2)"
   ]
  },
  {
   "cell_type": "code",
   "execution_count": 46,
   "id": "dceff4de",
   "metadata": {},
   "outputs": [
    {
     "name": "stdout",
     "output_type": "stream",
     "text": [
      "[1, 2, 3, 4, 4]\n"
     ]
    }
   ],
   "source": [
    "# ques23\n",
    "lista = []\n",
    "num = 0\n",
    "for i in range(5):\n",
    "     num = int(input('Entre com um número: '))\n",
    "     lista.append(num)\n",
    "lista.sort()\n",
    "print(lista)"
   ]
  },
  {
   "cell_type": "code",
   "execution_count": 48,
   "id": "021d2ae4",
   "metadata": {},
   "outputs": [
    {
     "name": "stdout",
     "output_type": "stream",
     "text": [
      "[1, 2, 3]\n"
     ]
    }
   ],
   "source": [
    "# ques24\n",
    "lista = []\n",
    "num = 1\n",
    "while (num!=0):\n",
    "    num = int(input('Entre com um número: '))\n",
    "    if num != 0:\n",
    "        lista.append(num)\n",
    "print(lista)"
   ]
  },
  {
   "cell_type": "code",
   "execution_count": 50,
   "id": "dc8662b1",
   "metadata": {},
   "outputs": [
    {
     "name": "stdout",
     "output_type": "stream",
     "text": [
      "[1, 4, 9, 16, 25]\n"
     ]
    }
   ],
   "source": [
    "# ques25\n",
    "valores = [1, 2, 3, 4, 5]\n",
    "valores_1 = []\n",
    "for v in valores:\n",
    "    valores_1.append(v**2)\n",
    "print(valores_1)"
   ]
  },
  {
   "cell_type": "code",
   "execution_count": 53,
   "id": "502929a8",
   "metadata": {},
   "outputs": [
    {
     "name": "stdout",
     "output_type": "stream",
     "text": [
      "['Python', 'é', 'uma', 'linguagem', 'poderosa', 'e', 'divertida']\n"
     ]
    }
   ],
   "source": [
    "# ques26\n",
    "texto = \"Python é uma linguagem poderosa e divertida\"\n",
    "lista = texto.split()\n",
    "print(lista)"
   ]
  },
  {
   "cell_type": "code",
   "execution_count": 70,
   "id": "f471d03f",
   "metadata": {},
   "outputs": [
    {
     "name": "stdout",
     "output_type": "stream",
     "text": [
      "[1, 2, 3, 3]\n"
     ]
    }
   ],
   "source": [
    "# ques27\n",
    "lista_11= []\n",
    "num = 0\n",
    "for i in range(4):\n",
    "    num = int(input(f'Entre com o {i+1} número: '))\n",
    "    lista_11.append(num)\n",
    "print(lista_11)\n",
    "\n"
   ]
  },
  {
   "cell_type": "code",
   "execution_count": 71,
   "id": "30c0bb6b",
   "metadata": {},
   "outputs": [
    {
     "name": "stdout",
     "output_type": "stream",
     "text": [
      "[1, 2, 3, 3]\n",
      "[1, 2]\n"
     ]
    }
   ],
   "source": [
    "\n",
    "print(lista_11)\n",
    "remo = int(input('Qual número deseja remover? '))\n",
    "lista_11 = [v for v in lista_11 if v != remo]\n",
    "print(lista_11)"
   ]
  },
  {
   "cell_type": "code",
   "execution_count": 76,
   "id": "a0a21471",
   "metadata": {},
   "outputs": [
    {
     "name": "stdout",
     "output_type": "stream",
     "text": [
      "[('João', 7), ('Maria', 9), ('Pedro', 6), ('Ana', 8)]\n",
      "[('Pedro', 6), ('João', 7), ('Ana', 8), ('Maria', 9)]\n"
     ]
    }
   ],
   "source": [
    "# ques28\n",
    "dados = [(\"João\", 7), (\"Maria\", 9), (\"Pedro\", 6), (\"Ana\", 8)]\n",
    "print(dados)\n",
    "ordenado = sorted(dados, key=lambda x: x[1])\n",
    "print(ordenado)\n"
   ]
  },
  {
   "cell_type": "code",
   "execution_count": 78,
   "id": "db77efdf",
   "metadata": {},
   "outputs": [
    {
     "name": "stdout",
     "output_type": "stream",
     "text": [
      "[[1, 2], [3, 4]]\n",
      "[[1, 2], [3, 4]]\n"
     ]
    }
   ],
   "source": [
    "# ques29\n",
    "import copy\n",
    "original = [[1, 2], [3, 4]]\n",
    "print(original)\n",
    "copia = copy.deepcopy(original)\n",
    "print(copia)"
   ]
  },
  {
   "cell_type": "code",
   "execution_count": null,
   "id": "3841f927",
   "metadata": {},
   "outputs": [],
   "source": [
    "# ques30\n",
    "texto = \"A prática leva à perfeição. A repetição traz aprendizado\""
   ]
  },
  {
   "cell_type": "markdown",
   "id": "ba3d14dc",
   "metadata": {},
   "source": [
    "## CALCULÁDORA"
   ]
  },
  {
   "cell_type": "code",
   "execution_count": 73,
   "id": "24a8229c",
   "metadata": {},
   "outputs": [
    {
     "name": "stdout",
     "output_type": "stream",
     "text": [
      "Não é possivel com zero (0)\n"
     ]
    }
   ],
   "source": [
    "num = int(input('Entre com o valor da tabuada: '))\n",
    "if num != 0:\n",
    "    for i in range(10):\n",
    "        print(f'{num} X {i} = {num*i}')\n",
    "else:\n",
    "    print('Não é possivel com zero (0)')"
   ]
  },
  {
   "cell_type": "markdown",
   "id": "0bba7219",
   "metadata": {},
   "source": [
    "# LISTA DE EXERECICÍO WHILE"
   ]
  },
  {
   "cell_type": "code",
   "execution_count": 79,
   "id": "7cc6b4d0",
   "metadata": {},
   "outputs": [
    {
     "name": "stdout",
     "output_type": "stream",
     "text": [
      "1\n",
      "2\n",
      "3\n",
      "4\n",
      "5\n",
      "6\n",
      "7\n",
      "8\n",
      "9\n",
      "10\n"
     ]
    }
   ],
   "source": [
    "# ques01\n",
    "i = 1\n",
    "while i < 11:\n",
    "    print(i)\n",
    "    i += 1"
   ]
  },
  {
   "cell_type": "code",
   "execution_count": 80,
   "id": "11f7ee47",
   "metadata": {},
   "outputs": [
    {
     "name": "stdout",
     "output_type": "stream",
     "text": [
      "2\n",
      "4\n",
      "6\n",
      "8\n",
      "10\n",
      "12\n",
      "14\n",
      "16\n",
      "18\n",
      "20\n"
     ]
    }
   ],
   "source": [
    "# ques02\n",
    "i = 2\n",
    "while i < 21:\n",
    "    if i%2!=1:\n",
    "        print(i)\n",
    "    i += 1"
   ]
  },
  {
   "cell_type": "code",
   "execution_count": 81,
   "id": "aea62bd3",
   "metadata": {},
   "outputs": [
    {
     "name": "stdout",
     "output_type": "stream",
     "text": [
      "5151\n"
     ]
    }
   ],
   "source": [
    "# ques03\n",
    "i = soma = 0\n",
    "while i < 101:\n",
    "    i += 1\n",
    "    soma += i\n",
    "print(soma)"
   ]
  },
  {
   "cell_type": "code",
   "execution_count": 83,
   "id": "b0c770f3",
   "metadata": {},
   "outputs": [
    {
     "name": "stdout",
     "output_type": "stream",
     "text": [
      "10\n",
      "9\n",
      "8\n",
      "7\n",
      "6\n",
      "5\n",
      "4\n",
      "3\n",
      "2\n",
      "1\n"
     ]
    }
   ],
   "source": [
    "# ques04\n",
    "i = 10\n",
    "while i > 0:\n",
    "    print(i)\n",
    "    i -= 1"
   ]
  },
  {
   "cell_type": "code",
   "execution_count": null,
   "id": "fcf285d3",
   "metadata": {},
   "outputs": [],
   "source": [
    "# ques05\n",
    "s = 1\n",
    "while s != 2005:\n",
    "    s = int(input('Digite sua senha: '))\n",
    "    if s != 2005:\n",
    "        print('Senha incorreta. ')\n",
    "print('Senha Válida')"
   ]
  },
  {
   "cell_type": "code",
   "execution_count": 87,
   "id": "ce13bc0b",
   "metadata": {},
   "outputs": [
    {
     "name": "stdout",
     "output_type": "stream",
     "text": [
      "Número válido!\n"
     ]
    }
   ],
   "source": [
    "# ques06\n",
    "n = -1 \n",
    "while n < 0:\n",
    "    n = int(input('Digite um número positivo: '))\n",
    "print('Número válido!')"
   ]
  },
  {
   "cell_type": "code",
   "execution_count": 31,
   "id": "34f45783",
   "metadata": {},
   "outputs": [
    {
     "name": "stdout",
     "output_type": "stream",
     "text": [
      "Média:  2.0\n"
     ]
    }
   ],
   "source": [
    "# ques07\n",
    "num = soma = media = 0\n",
    "i = 0\n",
    "while num != -1:\n",
    "    num = int(input('Entre com um número: '))\n",
    "    if num != -1:\n",
    "        soma += num\n",
    "        i += 1\n",
    "media = soma / i\n",
    "print('Média: ',media)"
   ]
  },
  {
   "cell_type": "code",
   "execution_count": 90,
   "id": "5fce8f1c",
   "metadata": {},
   "outputs": [
    {
     "name": "stdout",
     "output_type": "stream",
     "text": [
      "Maior número: 5\n"
     ]
    }
   ],
   "source": [
    "# ques08\n",
    "num = maior = 1\n",
    "while num != 0:\n",
    "    num = int(input('Entre com um número: '))\n",
    "    if num > maior:\n",
    "        maior = num\n",
    "print(f'Maior número: {maior}')"
   ]
  },
  {
   "cell_type": "code",
   "execution_count": 91,
   "id": "9ad544b0",
   "metadata": {},
   "outputs": [
    {
     "name": "stdout",
     "output_type": "stream",
     "text": [
      "Soma:  101\n"
     ]
    }
   ],
   "source": [
    "# ques09\n",
    "num = soma = 0\n",
    "while soma <= 100:\n",
    "    num = int(input('Entre com um número: '))\n",
    "    soma += num\n",
    "print('Soma: ',soma)"
   ]
  },
  {
   "cell_type": "code",
   "execution_count": 93,
   "id": "968d7223",
   "metadata": {},
   "outputs": [
    {
     "name": "stdout",
     "output_type": "stream",
     "text": [
      "Quantidade de números impare: 25\n"
     ]
    }
   ],
   "source": [
    "# ques10\n",
    "qtd_impar = 0\n",
    "i = 1\n",
    "while i < 50:\n",
    "    if i%2!=0:\n",
    "        qtd_impar += 1\n",
    "    i += 1\n",
    "print(f'Quantidade de números impare: {qtd_impar}')"
   ]
  },
  {
   "cell_type": "code",
   "execution_count": 94,
   "id": "2827f330",
   "metadata": {},
   "outputs": [
    {
     "name": "stdout",
     "output_type": "stream",
     "text": [
      "5 X 1 = 5\n",
      "5 X 2 = 10\n",
      "5 X 3 = 15\n",
      "5 X 4 = 20\n",
      "5 X 5 = 25\n",
      "5 X 6 = 30\n",
      "5 X 7 = 35\n",
      "5 X 8 = 40\n",
      "5 X 9 = 45\n",
      "5 X 10 = 50\n"
     ]
    }
   ],
   "source": [
    "# ques11\n",
    "t = 5\n",
    "i = 1\n",
    "while i < 11:\n",
    "    print(f'{t} X {i} = {t*i}')\n",
    "    i += 1"
   ]
  },
  {
   "cell_type": "code",
   "execution_count": null,
   "id": "7f94979d",
   "metadata": {},
   "outputs": [],
   "source": [
    "# ques12\n",
    "# não tive muitas informações"
   ]
  },
  {
   "cell_type": "code",
   "execution_count": null,
   "id": "eeac755a",
   "metadata": {},
   "outputs": [],
   "source": [
    "# ques13\n",
    "n = 5\n",
    "# nivel 7"
   ]
  },
  {
   "cell_type": "code",
   "execution_count": 7,
   "id": "7ac42e3c",
   "metadata": {},
   "outputs": [
    {
     "name": "stdout",
     "output_type": "stream",
     "text": [
      "6 != 6 5 4 3 2 1  = 720\n"
     ]
    }
   ],
   "source": [
    "# ques14\n",
    "n = 6\n",
    "r = n\n",
    "print(f'{n} != {n}',end=' ')\n",
    "while n > 1:\n",
    "    n -= 1\n",
    "    print(f'{n}',end=' ')\n",
    "    r *= n\n",
    "print(f' = {r}')"
   ]
  },
  {
   "cell_type": "code",
   "execution_count": 8,
   "id": "76565bca",
   "metadata": {},
   "outputs": [
    {
     "name": "stdout",
     "output_type": "stream",
     "text": [
      "Número certo!\n"
     ]
    }
   ],
   "source": [
    "# ques15\n",
    "num_secreto = 10\n",
    "n = 0\n",
    "while n != num_secreto:\n",
    "    n = int(input('Entre com um número: '))\n",
    "print('Número certo!')"
   ]
  },
  {
   "cell_type": "code",
   "execution_count": 25,
   "id": "4732312c",
   "metadata": {},
   "outputs": [
    {
     "name": "stdout",
     "output_type": "stream",
     "text": [
      "Números multiplos de 5: 1 5 "
     ]
    }
   ],
   "source": [
    "# ques16\n",
    "n = 5\n",
    "cont = 1\n",
    "print(f'Números multiplos de {n}: ',end='')\n",
    "while cont <= n:\n",
    "    if n % cont == 0:\n",
    "        print(cont,end=' ')\n",
    "    cont += 1\n"
   ]
  },
  {
   "cell_type": "code",
   "execution_count": 33,
   "id": "eefb70a7",
   "metadata": {},
   "outputs": [
    {
     "name": "stdout",
     "output_type": "stream",
     "text": [
      "Quantidade de números pares: 1\n"
     ]
    }
   ],
   "source": [
    "# ques17\n",
    "n = qtd_pares = 0\n",
    "while n != -1:\n",
    "    n = int(input('Entre com um número: '))\n",
    "    if n != -1 and n % 2== 0:\n",
    "        qtd_pares += 1\n",
    "print(f'Quantidade de números pares: {qtd_pares}')"
   ]
  },
  {
   "cell_type": "code",
   "execution_count": 34,
   "id": "dab94df1",
   "metadata": {},
   "outputs": [
    {
     "name": "stdout",
     "output_type": "stream",
     "text": [
      "['ray', 'bbbdd', 'boby']\n"
     ]
    }
   ],
   "source": [
    "# ques19\n",
    "nomes = []\n",
    "nome = ''\n",
    "while nome != 'fim' and nome != 'FIM':\n",
    "    nome = str(input('Digite um nome: '))\n",
    "    if nome != 'fim' and nome != 'FIM':\n",
    "        nomes.append(nome)\n",
    "print(nomes)"
   ]
  },
  {
   "cell_type": "code",
   "execution_count": null,
   "id": "b62d4003",
   "metadata": {},
   "outputs": [
    {
     "name": "stdout",
     "output_type": "stream",
     "text": [
      "Senha válida!\n"
     ]
    }
   ],
   "source": [
    "# ques20\n",
    "def logar():\n",
    "    senha_cadrastada = str(input('Cadastre uma senha: ')) \n",
    "    valido = True\n",
    "    while valido:\n",
    "        senha = str(input('Digite sua senha: '))\n",
    "        if senha == senha_cadrastada:\n",
    "            valido = False\n",
    "    print('Senha válida!')\n",
    "logar()"
   ]
  },
  {
   "cell_type": "code",
   "execution_count": null,
   "id": "129a9b2c",
   "metadata": {},
   "outputs": [],
   "source": [
    "# ques21\n"
   ]
  },
  {
   "cell_type": "code",
   "execution_count": 49,
   "id": "faafa682",
   "metadata": {},
   "outputs": [
    {
     "name": "stdout",
     "output_type": "stream",
     "text": [
      "3\n",
      "6\n",
      "9\n",
      "12\n",
      "15\n",
      "18\n",
      "21\n",
      "24\n",
      "27\n",
      "30\n",
      "33\n",
      "36\n",
      "39\n",
      "42\n",
      "45\n",
      "48\n",
      "51\n",
      "54\n",
      "57\n",
      "60\n",
      "63\n",
      "66\n",
      "69\n",
      "72\n",
      "75\n",
      "78\n",
      "81\n",
      "84\n",
      "87\n",
      "90\n",
      "93\n",
      "96\n",
      "99\n"
     ]
    }
   ],
   "source": [
    "def multiplos_3(i):\n",
    "    while i < 101:\n",
    "        if i % 3 == 0:\n",
    "            print(i)\n",
    "        i += 1\n",
    "i = 1\n",
    "multiplos_3(i)"
   ]
  },
  {
   "cell_type": "code",
   "execution_count": null,
   "id": "2702dfd5",
   "metadata": {},
   "outputs": [
    {
     "name": "stdout",
     "output_type": "stream",
     "text": [
      "O número 10 tem 2 dígitos.\n"
     ]
    }
   ],
   "source": [
    "# ques22 CHAT\n",
    "# Solicita um número inteiro\n",
    "numero = input(\"Digite um número inteiro: \")\n",
    "\n",
    "# Remove o sinal negativo, se houver\n",
    "numero_sem_sinal = numero.lstrip('-')\n",
    "\n",
    "# Conta a quantidade de dígitos\n",
    "quantidade_digitos = len(numero_sem_sinal)\n",
    "\n",
    "# Exibe o resultado\n",
    "print(f\"O número {numero} tem {quantidade_digitos} dígitos.\")"
   ]
  },
  {
   "cell_type": "code",
   "execution_count": 51,
   "id": "8475cf49",
   "metadata": {},
   "outputs": [
    {
     "name": "stdout",
     "output_type": "stream",
     "text": [
      "Média das notas: 10.0\n"
     ]
    }
   ],
   "source": [
    "# ques23\n",
    "nota = soma = media = cont = 0\n",
    "while nota != -1:\n",
    "    nota = float(input('Entre com a nota: '))\n",
    "    if nota != -1:\n",
    "        soma += nota\n",
    "        cont += 1\n",
    "media = soma / cont\n",
    "print('Média das notas: {}'.format(media))"
   ]
  },
  {
   "cell_type": "code",
   "execution_count": 54,
   "id": "3f55f450",
   "metadata": {},
   "outputs": [
    {
     "name": "stdout",
     "output_type": "stream",
     "text": [
      "Foram digitados: 1 números negativos\n"
     ]
    }
   ],
   "source": [
    "# ques24\n",
    "n = qtd_negativo = cont = 0\n",
    "while n != 999:\n",
    "    n = int(input('Digite um número: '))\n",
    "    if n != 999 and n < 0:\n",
    "        qtd_negativo += 1\n",
    "print(f'Foram digitados: {qtd_negativo} números negativos')"
   ]
  },
  {
   "cell_type": "code",
   "execution_count": null,
   "id": "70f6f3ad",
   "metadata": {},
   "outputs": [],
   "source": [
    "# ques25\n",
    "# outro nivel 7\n"
   ]
  },
  {
   "cell_type": "code",
   "execution_count": 68,
   "id": "ebe1d8a5",
   "metadata": {},
   "outputs": [
    {
     "name": "stdout",
     "output_type": "stream",
     "text": [
      "7.0\n"
     ]
    }
   ],
   "source": [
    "# ques26\n",
    "n = media = soma = cont = 0\n",
    "while media < 7:\n",
    "    n = int(input('Entre com um número: '))\n",
    "    soma += n\n",
    "    cont += 1\n",
    "    media += soma / cont\n",
    "print(media)"
   ]
  },
  {
   "cell_type": "code",
   "execution_count": 69,
   "id": "e22ef086",
   "metadata": {},
   "outputs": [
    {
     "name": "stdout",
     "output_type": "stream",
     "text": [
      "0\n",
      "1\n",
      "2\n",
      "3\n",
      "4\n",
      "5\n",
      "6\n",
      "7\n",
      "8\n",
      "9\n",
      "10\n",
      "11\n",
      "12\n",
      "13\n",
      "14\n",
      "15\n",
      "16\n",
      "17\n",
      "18\n",
      "19\n",
      "20\n",
      "21\n",
      "22\n",
      "23\n",
      "24\n",
      "25\n",
      "26\n",
      "27\n",
      "28\n",
      "29\n",
      "30\n",
      "31\n",
      "32\n",
      "33\n",
      "34\n",
      "35\n",
      "36\n",
      "37\n",
      "38\n",
      "39\n",
      "40\n",
      "41\n",
      "42\n",
      "43\n",
      "44\n",
      "45\n",
      "46\n",
      "47\n",
      "48\n",
      "49\n",
      "50\n"
     ]
    }
   ],
   "source": [
    "# ques27\n",
    "cont = 0\n",
    "while cont < 51:\n",
    "    print(cont)\n",
    "    cont += 1"
   ]
  },
  {
   "cell_type": "code",
   "execution_count": 75,
   "id": "cfad1103",
   "metadata": {},
   "outputs": [
    {
     "name": "stdout",
     "output_type": "stream",
     "text": [
      "Menor número: 1\n"
     ]
    }
   ],
   "source": [
    "# ques28\n",
    "num = menor = 2\n",
    "while num != -1:\n",
    "    num = int(input('Entre com um número: '))\n",
    "    if num < menor and num != -1:\n",
    "        menor = num\n",
    "print(f'Menor número: {menor}')"
   ]
  },
  {
   "cell_type": "code",
   "execution_count": 77,
   "id": "26eba7a1",
   "metadata": {},
   "outputs": [
    {
     "name": "stdout",
     "output_type": "stream",
     "text": [
      "Quantidade de Pessoas maior de idade: 2\n"
     ]
    }
   ],
   "source": [
    "# ques29\n",
    "idade = qtd_maior = cont = 0\n",
    "while idade != -1:\n",
    "    idade = int(input('Entre com sua idade: '))\n",
    "    if idade > 17 and idade != -1:\n",
    "        qtd_maior += 1\n",
    "print(f'Quantidade de Pessoas maior de idade: {qtd_maior}')"
   ]
  },
  {
   "cell_type": "code",
   "execution_count": 79,
   "id": "f6d79315",
   "metadata": {},
   "outputs": [
    {
     "name": "stdout",
     "output_type": "stream",
     "text": [
      "1\n",
      "4\n",
      "9\n",
      "16\n",
      "25\n",
      "36\n",
      "49\n",
      "64\n",
      "81\n",
      "100\n"
     ]
    }
   ],
   "source": [
    "# ques30\n",
    "n = 1\n",
    "while n < 11:\n",
    "    print(n**2)\n",
    "    n += 1"
   ]
  },
  {
   "cell_type": "markdown",
   "id": "37c24a52",
   "metadata": {},
   "source": [
    "# AULA"
   ]
  },
  {
   "cell_type": "code",
   "execution_count": 44,
   "id": "51595493",
   "metadata": {},
   "outputs": [
    {
     "name": "stdout",
     "output_type": "stream",
     "text": [
      "ray santos\n",
      "223454546\n"
     ]
    }
   ],
   "source": [
    "def cadastra_usuário():\n",
    "    nome = str(input('Entre com seu nome: '))\n",
    "    cpf = str(input('Entre com seu nome: '))\n",
    "    print(nome)\n",
    "    print(cpf)\n",
    "cadastra_usuário()"
   ]
  },
  {
   "cell_type": "code",
   "execution_count": 57,
   "id": "93121604",
   "metadata": {},
   "outputs": [
    {
     "name": "stdout",
     "output_type": "stream",
     "text": [
      "Média: 8.33\n"
     ]
    }
   ],
   "source": [
    "notas = [10,10,5]\n",
    "media = sum(notas) / len(notas)\n",
    "print(f'Média: {media:.2f}')"
   ]
  },
  {
   "cell_type": "code",
   "execution_count": null,
   "id": "af3b49c7",
   "metadata": {},
   "outputs": [
    {
     "name": "stdout",
     "output_type": "stream",
     "text": [
      "Média: 8.33\n",
      "Aprovado\n"
     ]
    }
   ],
   "source": [
    "def situacao():\n",
    "    saida = 'Reprovado'\n",
    "    if media > 5:\n",
    "        saida = 'Aprovado'\n",
    "    print(saida)\n",
    "situacao()"
   ]
  },
  {
   "cell_type": "code",
   "execution_count": 8,
   "id": "a825761d",
   "metadata": {},
   "outputs": [],
   "source": [
    "def menu():\n",
    "    print('Qual figura quer saber a área:')\n",
    "    print('1 - Triângulo')\n",
    "    print('2 - Losango')\n",
    "    print('3 - Círculo')\n",
    "    print('4 - Quadrado')\n",
    "    print('5 - Retângulo')\n",
    "    print('6 - Trapézio')\n",
    "    print('7 - sair')\n",
    "    opcao = int(input('--:'))\n",
    "    return opcao"
   ]
  },
  {
   "cell_type": "code",
   "execution_count": 9,
   "id": "c7b21775",
   "metadata": {},
   "outputs": [],
   "source": [
    "\n",
    "\n",
    "def area_triangulo():\n",
    "    b = float(input('Entre com a base: '))\n",
    "    h = float(input('Entre com a altura: '))\n",
    "    area = b * h / 2\n",
    "    print(f'Área do Triângulo: {area}')\n",
    "\n",
    "def area_losango():\n",
    "    D = float(input('Entre com a diagonal maior: '))\n",
    "    d = float(input('Entre com a diagonal menor: '))\n",
    "    area = D * d / 2\n",
    "    print(f'Área do losango: {area}')\n",
    "\n",
    "def area_circulo():\n",
    "    r = float(input('Entre com o raio: '))\n",
    "    area = 3.14 * (r**2)\n",
    "    print(f'Área do circulo: {area}')\n",
    "\n",
    "def area_quadrado():\n",
    "    b = float(input('Entre com a base: '))\n",
    "    h = float(input('Entre com a alturar: '))\n",
    "    area = b * h \n",
    "    print(f'Área do losango: {area}')\n",
    "\n",
    "def area_retangulo():\n",
    "    b = float(input('Entre com a base: '))\n",
    "    h = float(input('Entre com a alturar: '))\n",
    "    area = b * h \n",
    "    print(f'Área do losango: {area}')\n",
    "    \n",
    "def area_trapezio():\n",
    "    B = float(input('Entre com a base maior: '))\n",
    "    b = float(input('Entre com a base menor: '))\n",
    "    h = float(input('Entre com a altura: '))\n",
    "    area = ((B+b) * h) / 2\n",
    "    print(f'Área do losango: {area}')\n"
   ]
  },
  {
   "cell_type": "code",
   "execution_count": 20,
   "id": "e123025b",
   "metadata": {},
   "outputs": [],
   "source": [
    "def operacoes_geral():\n",
    "    valido = True\n",
    "    # menu()\n",
    "    while valido:\n",
    "        match menu():\n",
    "            case 1:\n",
    "                area_triangulo()\n",
    "            case 2:\n",
    "                area_losango()\n",
    "            case 3:\n",
    "                area_circulo()\n",
    "            case 4:\n",
    "                area_quadrado()\n",
    "            case 5:\n",
    "                area_retangulo()\n",
    "            case 6: \n",
    "                area_trapezio()\n",
    "            case 7:\n",
    "                valido = False\n",
    "            case _:\n",
    "                print('Opção inválida!')\n",
    "        print('-------------------------------------')\n",
    "    print('Programa Finalizado')\n"
   ]
  },
  {
   "cell_type": "code",
   "execution_count": null,
   "id": "bbf01771",
   "metadata": {},
   "outputs": [
    {
     "name": "stdout",
     "output_type": "stream",
     "text": [
      "Qual figura quer saber a área:\n",
      "1 - Triângulo\n",
      "2 - Losango\n",
      "3 - Círculo\n",
      "4 - Quadrado\n",
      "5 - Retângulo\n",
      "6 - Trapézio\n",
      "7 - sair\n"
     ]
    },
    {
     "name": "stdin",
     "output_type": "stream",
     "text": [
      "--: 3\n",
      "Entre com o raio:  1\n"
     ]
    },
    {
     "name": "stdout",
     "output_type": "stream",
     "text": [
      "Área do circulo: 3.14\n",
      "-------------------------------------\n",
      "Qual figura quer saber a área:\n",
      "1 - Triângulo\n",
      "2 - Losango\n",
      "3 - Círculo\n",
      "4 - Quadrado\n",
      "5 - Retângulo\n",
      "6 - Trapézio\n",
      "7 - sair\n"
     ]
    }
   ],
   "source": [
    "operacoes_geral()"
   ]
  },
  {
   "cell_type": "code",
   "execution_count": null,
   "id": "ae399806-c81a-463c-9388-22f316d996b3",
   "metadata": {},
   "outputs": [],
   "source": []
  }
 ],
 "metadata": {
  "kernelspec": {
   "display_name": "Python 3 (ipykernel)",
   "language": "python",
   "name": "python3"
  },
  "language_info": {
   "codemirror_mode": {
    "name": "ipython",
    "version": 3
   },
   "file_extension": ".py",
   "mimetype": "text/x-python",
   "name": "python",
   "nbconvert_exporter": "python",
   "pygments_lexer": "ipython3",
   "version": "3.12.7"
  }
 },
 "nbformat": 4,
 "nbformat_minor": 5
}
