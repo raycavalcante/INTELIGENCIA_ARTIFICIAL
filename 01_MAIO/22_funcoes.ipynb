{
 "cells": [
  {
   "cell_type": "markdown",
   "id": "dfe16207",
   "metadata": {},
   "source": [
    "# Lista de exercicío: while"
   ]
  },
  {
   "cell_type": "code",
   "execution_count": null,
   "id": "ca80b97a",
   "metadata": {},
   "outputs": [
    {
     "name": "stdout",
     "output_type": "stream",
     "text": [
      "Ana\n",
      "Bruno\n",
      "Carlos\n",
      "Diana\n",
      "Eduarda\n"
     ]
    }
   ],
   "source": [
    "# Lista da aula anterior\n",
    "# ques01\n",
    "nomes = ['Ana','Bruno','Carlos','Diana','Eduarda']\n",
    "i = 0 \n",
    "while i < len(nomes):\n",
    "    print(nomes[i])\n",
    "    i += 1"
   ]
  },
  {
   "cell_type": "code",
   "execution_count": 8,
   "id": "e5ebe1c6",
   "metadata": {},
   "outputs": [
    {
     "name": "stdout",
     "output_type": "stream",
     "text": [
      "4\n",
      "10\n"
     ]
    }
   ],
   "source": [
    "# ques02\n",
    "num = [4,7,10,13]\n",
    "i = 0 \n",
    "while i < len(num):\n",
    "    if num[i] % 2 != 1:\n",
    "        print(num[i])\n",
    "    i += 1"
   ]
  },
  {
   "cell_type": "code",
   "execution_count": 9,
   "id": "8327a02d",
   "metadata": {},
   "outputs": [
    {
     "name": "stdout",
     "output_type": "stream",
     "text": [
      "Soma da lista: 75\n"
     ]
    }
   ],
   "source": [
    "# ques03\n",
    "numeros = [5,10,15,20,25]\n",
    "i = soma = 0\n",
    "while i < len(numeros):\n",
    "    soma += numeros[i]\n",
    "    i += 1\n",
    "print(f'Soma da lista: {soma}')\n"
   ]
  },
  {
   "cell_type": "code",
   "execution_count": 12,
   "id": "fcd90bdc",
   "metadata": {},
   "outputs": [
    {
     "name": "stdout",
     "output_type": "stream",
     "text": [
      "Na lista temos: 3 números impares\n"
     ]
    }
   ],
   "source": [
    "# ques04\n",
    "num = [3,6,9,11,14]\n",
    "i = cont = 0\n",
    "while i < len(num):\n",
    "    if num[i] % 2 != 0:\n",
    "        cont += 1\n",
    "    i += 1\n",
    "print(f'Na lista temos: {cont} números impares')"
   ]
  },
  {
   "cell_type": "code",
   "execution_count": 14,
   "id": "dec086d8",
   "metadata": {},
   "outputs": [
    {
     "name": "stdout",
     "output_type": "stream",
     "text": [
      "kiwi\n",
      "laranja\n",
      "banana\n",
      "maçã\n"
     ]
    }
   ],
   "source": [
    "# ques05\n",
    "frutas = ['maçã','banana','laranja','kiwi']\n",
    "i = len(frutas)\n",
    "while i > 0:\n",
    "    print(frutas[i-1])\n",
    "    i -= 1"
   ]
  },
  {
   "cell_type": "code",
   "execution_count": 17,
   "id": "c1d36b4a",
   "metadata": {},
   "outputs": [
    {
     "name": "stdout",
     "output_type": "stream",
     "text": [
      "Média das notas: 7.3\n"
     ]
    }
   ],
   "source": [
    "# ques06\n",
    "notas = [7.5,8,6.5,9,5.5]\n",
    "i = soma = media = 0\n",
    "while i < len(notas):\n",
    "    soma += notas[i]\n",
    "    i += 1\n",
    "media += soma / len(notas)\n",
    "print(f'Média das notas: {media}')"
   ]
  },
  {
   "cell_type": "code",
   "execution_count": null,
   "id": "e4076fad",
   "metadata": {},
   "outputs": [
    {
     "name": "stdout",
     "output_type": "stream",
     "text": [
      "[]\n",
      "[1, 2, 3, 4, 5]\n"
     ]
    }
   ],
   "source": [
    "# ques07\n",
    "lista = []\n",
    "print(lista)\n",
    "i = 0\n",
    "while i < 5:\n",
    "    num = int(input('Entre com um número:'))\n",
    "    lista.append(num)\n",
    "    i += 1\n",
    "print(lista)\n"
   ]
  },
  {
   "cell_type": "code",
   "execution_count": null,
   "id": "6e9bc852",
   "metadata": {},
   "outputs": [
    {
     "name": "stdout",
     "output_type": "stream",
     "text": [
      "[10, 8, 15]\n"
     ]
    }
   ],
   "source": [
    "# ques08\n",
    "num = [10,-5,8,-2,15,-1]\n",
    "i = 0\n",
    "while i < len(num):\n",
    "    if num[i] < 0:\n",
    "        del num[i]\n",
    "    i += 1\n",
    "print(num)\n"
   ]
  },
  {
   "cell_type": "code",
   "execution_count": null,
   "id": "183f478d",
   "metadata": {},
   "outputs": [],
   "source": [
    "# QUES09\n",
    "lista = []\n",
    "nome = ''\n",
    "while nome != 'fim':\n",
    "    nome = str(input('Entre com um nome: ')).lower()\n",
    "\n",
    "    if nome != 'fim':\n",
    "        lista.append(nome)\n"
   ]
  },
  {
   "cell_type": "code",
   "execution_count": 50,
   "id": "0511aa59",
   "metadata": {},
   "outputs": [],
   "source": [
    "# ques10\n",
    "num = soma = i = 0\n",
    "while soma < 100:\n",
    "    num = int(input('Digite um número: '))\n",
    "    soma += num\n",
    "    i += 1"
   ]
  },
  {
   "cell_type": "code",
   "execution_count": 53,
   "id": "24ba8d98",
   "metadata": {},
   "outputs": [
    {
     "name": "stdout",
     "output_type": "stream",
     "text": [
      "[1, 2, 3, 4]\n"
     ]
    }
   ],
   "source": [
    "# ques11\n",
    "origem = [1,2,3,4]\n",
    "i = 0\n",
    "lista_nova = []\n",
    "while i < len(origem) :\n",
    "    lista_nova.append(origem[i])\n",
    "    i += 1\n",
    "print(lista_nova)\n",
    "\n",
    "\n"
   ]
  },
  {
   "cell_type": "code",
   "execution_count": null,
   "id": "d72ae23c",
   "metadata": {},
   "outputs": [
    {
     "name": "stdout",
     "output_type": "stream",
     "text": [
      "[2, 4, 6, 8]\n"
     ]
    }
   ],
   "source": [
    "# ques12\n",
    "num = [1,2,3,4]\n",
    "i = 0\n",
    "lista_nova = []\n",
    "while i < len(num) :\n",
    "    lista_nova.append(num[i]* 2)\n",
    "    i += 1\n",
    "print(lista_nova)"
   ]
  },
  {
   "cell_type": "code",
   "execution_count": 65,
   "id": "30e6744d",
   "metadata": {},
   "outputs": [
    {
     "name": "stdout",
     "output_type": "stream",
     "text": [
      "0\n",
      "1\n",
      "2\n",
      "3\n",
      "25 esta na lista\n"
     ]
    }
   ],
   "source": [
    "# ques13\n",
    "numeros = [2,8,12,23,25]\n",
    "i = 0\n",
    "saida = '25 não esta na lista'\n",
    "while i < len(numeros):\n",
    "    if numeros[i] == 25:\n",
    "        saida = '25 esta na lista'\n",
    "        break\n",
    "    print(i)\n",
    "    i += 1\n",
    "print(saida)"
   ]
  },
  {
   "cell_type": "code",
   "execution_count": 67,
   "id": "f475aea1",
   "metadata": {},
   "outputs": [
    {
     "name": "stdout",
     "output_type": "stream",
     "text": [
      "3 números são maior que 10\n"
     ]
    }
   ],
   "source": [
    "# ques14\n",
    "num = [3,8,12,25,30]\n",
    "i = cont = 0\n",
    "while i < len(num):\n",
    "    if num[i] > 10:\n",
    "        cont += 1\n",
    "    i += 1\n",
    "print(f'{cont} números são maior que 10')"
   ]
  },
  {
   "cell_type": "code",
   "execution_count": 69,
   "id": "3dc24734",
   "metadata": {},
   "outputs": [
    {
     "name": "stdout",
     "output_type": "stream",
     "text": [
      "Maior número dav lista: 85\n"
     ]
    }
   ],
   "source": [
    "# ques15\n",
    "valores = [40,10,85,60,20]\n",
    "i = maior = 0\n",
    "while i < len(valores):\n",
    "    if i == 0:\n",
    "        maior = valores[i]\n",
    "    else:\n",
    "        if valores[i] > maior:\n",
    "            maior = valores[i]\n",
    "    i += 1\n",
    "print(f'Maior número dav lista: {maior}')"
   ]
  },
  {
   "cell_type": "code",
   "execution_count": 71,
   "id": "dfb2b220",
   "metadata": {},
   "outputs": [
    {
     "name": "stdout",
     "output_type": "stream",
     "text": [
      "0\n",
      "1\n",
      "2\n",
      "3\n",
      "4\n",
      "5\n",
      "6\n"
     ]
    }
   ],
   "source": [
    "# ques16\n",
    "lista = [3,6,9,12,15,18,21]\n",
    "i = 0\n",
    "while i < len(lista):\n",
    "    if lista[i] % 3 == 0:\n",
    "        print(i)\n",
    "    i += 1"
   ]
  },
  {
   "cell_type": "code",
   "execution_count": null,
   "id": "9a10992d",
   "metadata": {},
   "outputs": [
    {
     "name": "stdout",
     "output_type": "stream",
     "text": [
      "['e', 'd', 'c', 'd', 'e']\n"
     ]
    }
   ],
   "source": [
    "# ques17\n",
    "# ----------------------------------------------\n",
    "letras = ['a','b','c','d','e']\n",
    "i = 0\n",
    "j = len(letras)\n",
    "while i < len(letras):\n",
    "    letras[i] = letras[j-1]\n",
    "    i += 1\n",
    "    j -= 1\n",
    "print(letras)"
   ]
  },
  {
   "cell_type": "code",
   "execution_count": null,
   "id": "7293e087",
   "metadata": {},
   "outputs": [],
   "source": [
    "# ques18\n",
    "lista = [2,5,6,9,10]\n",
    "i = 0\n",
    "while i < len(lista):\n",
    "    if lista[i] % 2"
   ]
  },
  {
   "cell_type": "markdown",
   "id": "9daadf50",
   "metadata": {},
   "source": [
    "## aula funções"
   ]
  },
  {
   "cell_type": "code",
   "execution_count": null,
   "id": "79253243",
   "metadata": {},
   "outputs": [
    {
     "name": "stdout",
     "output_type": "stream",
     "text": [
      "Aprovado\n",
      "10.0\n"
     ]
    }
   ],
   "source": [
    "def calcular_situacao_final():\n",
    "    notas = []\n",
    "    nota = 0\n",
    "    for i in range(4):\n",
    "        nota = float(input(f'Entre com a {i+1}º nota: '))\n",
    "        notas.append(nota)\n",
    "\n",
    "        media = sum(notas) / len(notas)\n",
    "    saida = 'Reprovado'\n",
    "    if media >= 6:\n",
    "        saida = 'Aprovado'\n",
    "    print(saida)\n",
    "calcular_situacao_final()"
   ]
  },
  {
   "cell_type": "code",
   "execution_count": null,
   "id": "7f828188",
   "metadata": {},
   "outputs": [
    {
     "name": "stdout",
     "output_type": "stream",
     "text": [
      "Bem-vindo!\n"
     ]
    }
   ],
   "source": [
    "# ques01\n",
    "def saudacao():\n",
    "    print('Bem-vindo!')\n",
    "saudacao()"
   ]
  },
  {
   "cell_type": "code",
   "execution_count": null,
   "id": "3ae44f1a",
   "metadata": {},
   "outputs": [
    {
     "name": "stdout",
     "output_type": "stream",
     "text": [
      "Olá, Ray santos\n"
     ]
    }
   ],
   "source": [
    "# ques02\n",
    "def ola(nome):\n",
    "    print(f'Olá, {nome}')\n",
    "nome = 'Ray santos'\n",
    "ola(nome)"
   ]
  },
  {
   "cell_type": "code",
   "execution_count": null,
   "id": "f68d21b6",
   "metadata": {},
   "outputs": [
    {
     "data": {
      "text/plain": [
       "4"
      ]
     },
     "execution_count": 24,
     "metadata": {},
     "output_type": "execute_result"
    }
   ],
   "source": [
    "# ques03\n",
    "def dobro(n):\n",
    "    return n * 2\n",
    "num = 2\n",
    "dobro(num)"
   ]
  },
  {
   "cell_type": "code",
   "execution_count": null,
   "id": "c777289d",
   "metadata": {},
   "outputs": [
    {
     "data": {
      "text/plain": [
       "10"
      ]
     },
     "execution_count": 25,
     "metadata": {},
     "output_type": "execute_result"
    }
   ],
   "source": [
    "# ques04\n",
    "def soma(a,b):\n",
    "    return  a + b\n",
    "c = 5\n",
    "d = 5\n",
    "soma(c,d)"
   ]
  },
  {
   "cell_type": "code",
   "execution_count": null,
   "id": "d07e4870",
   "metadata": {},
   "outputs": [],
   "source": []
  },
  {
   "cell_type": "code",
   "execution_count": 39,
   "id": "9148936f",
   "metadata": {},
   "outputs": [
    {
     "name": "stdout",
     "output_type": "stream",
     "text": [
      "É um número par\n"
     ]
    }
   ],
   "source": [
    "def eh_par(n):\n",
    "    saida = False\n",
    "    if n % 2 == 0:\n",
    "        saida = True\n",
    "    return saida\n",
    "p = 'Não é par'\n",
    "num = 4\n",
    "if eh_par(num):\n",
    "    p = 'É um número par'\n",
    "print(p)"
   ]
  }
 ],
 "metadata": {
  "kernelspec": {
   "display_name": "base",
   "language": "python",
   "name": "python3"
  },
  "language_info": {
   "codemirror_mode": {
    "name": "ipython",
    "version": 3
   },
   "file_extension": ".py",
   "mimetype": "text/x-python",
   "name": "python",
   "nbconvert_exporter": "python",
   "pygments_lexer": "ipython3",
   "version": "3.12.7"
  }
 },
 "nbformat": 4,
 "nbformat_minor": 5
}
